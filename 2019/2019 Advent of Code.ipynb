{
 "cells": [
  {
   "cell_type": "markdown",
   "metadata": {},
   "source": [
    "# Day 1"
   ]
  },
  {
   "cell_type": "code",
   "execution_count": 105,
   "metadata": {},
   "outputs": [],
   "source": [
    "import pandas as pd\n",
    "import numpy as np\n",
    "import math\n",
    "from plotnine import *\n",
    "%matplotlib inline"
   ]
  },
  {
   "cell_type": "markdown",
   "metadata": {},
   "source": [
    "## Puzzle 1"
   ]
  },
  {
   "cell_type": "code",
   "execution_count": 3,
   "metadata": {},
   "outputs": [],
   "source": [
    "def fuel(mass):\n",
    "    return mass // 3 - 2"
   ]
  },
  {
   "cell_type": "code",
   "execution_count": 9,
   "metadata": {},
   "outputs": [],
   "source": [
    "df1 = pd.read_csv(\"data/input1.txt\", header=None, names=[\"mass\"])"
   ]
  },
  {
   "cell_type": "code",
   "execution_count": 10,
   "metadata": {},
   "outputs": [
    {
     "data": {
      "text/html": [
       "<div>\n",
       "<style scoped>\n",
       "    .dataframe tbody tr th:only-of-type {\n",
       "        vertical-align: middle;\n",
       "    }\n",
       "\n",
       "    .dataframe tbody tr th {\n",
       "        vertical-align: top;\n",
       "    }\n",
       "\n",
       "    .dataframe thead th {\n",
       "        text-align: right;\n",
       "    }\n",
       "</style>\n",
       "<table border=\"1\" class=\"dataframe\">\n",
       "  <thead>\n",
       "    <tr style=\"text-align: right;\">\n",
       "      <th></th>\n",
       "      <th>mass</th>\n",
       "    </tr>\n",
       "  </thead>\n",
       "  <tbody>\n",
       "    <tr>\n",
       "      <th>0</th>\n",
       "      <td>80228</td>\n",
       "    </tr>\n",
       "    <tr>\n",
       "      <th>1</th>\n",
       "      <td>76027</td>\n",
       "    </tr>\n",
       "    <tr>\n",
       "      <th>2</th>\n",
       "      <td>101696</td>\n",
       "    </tr>\n",
       "    <tr>\n",
       "      <th>3</th>\n",
       "      <td>66033</td>\n",
       "    </tr>\n",
       "    <tr>\n",
       "      <th>4</th>\n",
       "      <td>127249</td>\n",
       "    </tr>\n",
       "    <tr>\n",
       "      <th>...</th>\n",
       "      <td>...</td>\n",
       "    </tr>\n",
       "    <tr>\n",
       "      <th>95</th>\n",
       "      <td>146102</td>\n",
       "    </tr>\n",
       "    <tr>\n",
       "      <th>96</th>\n",
       "      <td>52655</td>\n",
       "    </tr>\n",
       "    <tr>\n",
       "      <th>97</th>\n",
       "      <td>130193</td>\n",
       "    </tr>\n",
       "    <tr>\n",
       "      <th>98</th>\n",
       "      <td>109013</td>\n",
       "    </tr>\n",
       "    <tr>\n",
       "      <th>99</th>\n",
       "      <td>120465</td>\n",
       "    </tr>\n",
       "  </tbody>\n",
       "</table>\n",
       "<p>100 rows × 1 columns</p>\n",
       "</div>"
      ],
      "text/plain": [
       "      mass\n",
       "0    80228\n",
       "1    76027\n",
       "2   101696\n",
       "3    66033\n",
       "4   127249\n",
       "..     ...\n",
       "95  146102\n",
       "96   52655\n",
       "97  130193\n",
       "98  109013\n",
       "99  120465\n",
       "\n",
       "[100 rows x 1 columns]"
      ]
     },
     "execution_count": 10,
     "metadata": {},
     "output_type": "execute_result"
    }
   ],
   "source": [
    "df1"
   ]
  },
  {
   "cell_type": "code",
   "execution_count": 16,
   "metadata": {},
   "outputs": [
    {
     "data": {
      "text/plain": [
       "2"
      ]
     },
     "execution_count": 16,
     "metadata": {},
     "output_type": "execute_result"
    }
   ],
   "source": [
    "fuel(12)"
   ]
  },
  {
   "cell_type": "code",
   "execution_count": 17,
   "metadata": {},
   "outputs": [
    {
     "data": {
      "text/plain": [
       "2"
      ]
     },
     "execution_count": 17,
     "metadata": {},
     "output_type": "execute_result"
    }
   ],
   "source": [
    "fuel(14)"
   ]
  },
  {
   "cell_type": "code",
   "execution_count": 18,
   "metadata": {},
   "outputs": [
    {
     "data": {
      "text/plain": [
       "654"
      ]
     },
     "execution_count": 18,
     "metadata": {},
     "output_type": "execute_result"
    }
   ],
   "source": [
    "fuel(1969)"
   ]
  },
  {
   "cell_type": "code",
   "execution_count": 19,
   "metadata": {},
   "outputs": [
    {
     "data": {
      "text/plain": [
       "33583"
      ]
     },
     "execution_count": 19,
     "metadata": {},
     "output_type": "execute_result"
    }
   ],
   "source": [
    "fuel(100756)"
   ]
  },
  {
   "cell_type": "code",
   "execution_count": 11,
   "metadata": {},
   "outputs": [
    {
     "data": {
      "text/plain": [
       "3502510"
      ]
     },
     "execution_count": 11,
     "metadata": {},
     "output_type": "execute_result"
    }
   ],
   "source": [
    "sum([fuel(m) for m in df1[\"mass\"]])"
   ]
  },
  {
   "cell_type": "markdown",
   "metadata": {},
   "source": [
    "## Puzzle 2"
   ]
  },
  {
   "cell_type": "code",
   "execution_count": 14,
   "metadata": {},
   "outputs": [],
   "source": [
    "def fuel_fuel(mass):\n",
    "    total = 0\n",
    "    remaining = fuel(mass)\n",
    "    while remaining >= 0:\n",
    "        total += remaining\n",
    "        remaining = fuel(remaining)\n",
    "    return total"
   ]
  },
  {
   "cell_type": "code",
   "execution_count": 20,
   "metadata": {},
   "outputs": [
    {
     "data": {
      "text/plain": [
       "2"
      ]
     },
     "execution_count": 20,
     "metadata": {},
     "output_type": "execute_result"
    }
   ],
   "source": [
    "fuel_fuel(14)"
   ]
  },
  {
   "cell_type": "code",
   "execution_count": 21,
   "metadata": {},
   "outputs": [
    {
     "data": {
      "text/plain": [
       "966"
      ]
     },
     "execution_count": 21,
     "metadata": {},
     "output_type": "execute_result"
    }
   ],
   "source": [
    "fuel_fuel(1969)"
   ]
  },
  {
   "cell_type": "code",
   "execution_count": 22,
   "metadata": {},
   "outputs": [
    {
     "data": {
      "text/plain": [
       "50346"
      ]
     },
     "execution_count": 22,
     "metadata": {},
     "output_type": "execute_result"
    }
   ],
   "source": [
    "fuel_fuel(100756)"
   ]
  },
  {
   "cell_type": "code",
   "execution_count": 15,
   "metadata": {},
   "outputs": [
    {
     "data": {
      "text/plain": [
       "5250885"
      ]
     },
     "execution_count": 15,
     "metadata": {},
     "output_type": "execute_result"
    }
   ],
   "source": [
    "sum([fuel_fuel(m) for m in df1[\"mass\"]])"
   ]
  },
  {
   "cell_type": "markdown",
   "metadata": {},
   "source": [
    "# Day 2"
   ]
  },
  {
   "cell_type": "markdown",
   "metadata": {},
   "source": [
    "## Puzzle 1"
   ]
  },
  {
   "cell_type": "code",
   "execution_count": 47,
   "metadata": {},
   "outputs": [],
   "source": [
    "data = [1,0,0,3,1,1,2,3,1,3,4,3,1,5,0,3,2,13,1,19,1,19,10,23,1,23,13,27,1,6,27,31,1,9,31,35,2,10,35,39,1,39,6,43,1,6,43,47,2,13,47,51,1,51,6,55,2,6,55,59,2,59,6,63,2,63,13,67,1,5,67,71,2,9,71,75,1,5,75,79,1,5,79,83,1,83,6,87,1,87,6,91,1,91,5,95,2,10,95,99,1,5,99,103,1,10,103,107,1,107,9,111,2,111,10,115,1,115,9,119,1,13,119,123,1,123,9,127,1,5,127,131,2,13,131,135,1,9,135,139,1,2,139,143,1,13,143,0,99,2,0,14,0]"
   ]
  },
  {
   "cell_type": "code",
   "execution_count": 48,
   "metadata": {},
   "outputs": [],
   "source": [
    "data[1] = 12\n",
    "data[2] = 2"
   ]
  },
  {
   "cell_type": "code",
   "execution_count": 49,
   "metadata": {},
   "outputs": [],
   "source": [
    "#testing\n",
    "#data = [1,1,1,4,99,5,6,0,99]"
   ]
  },
  {
   "cell_type": "code",
   "execution_count": 50,
   "metadata": {},
   "outputs": [],
   "source": [
    "opindex = 0\n",
    "while data[opindex] != 99:\n",
    "    if data[opindex] == 1:\n",
    "        data[data[opindex + 3]] = data[data[opindex + 1]] + data[data[opindex + 2]] \n",
    "    elif data[opindex] == 2:\n",
    "        data[data[opindex + 3]] = data[data[opindex + 1]] * data[data[opindex + 2]]\n",
    "    else:\n",
    "        print(\"ERROR!\")\n",
    "    opindex += 4"
   ]
  },
  {
   "cell_type": "code",
   "execution_count": 51,
   "metadata": {},
   "outputs": [
    {
     "data": {
      "text/plain": [
       "[7210630,\n",
       " 12,\n",
       " 2,\n",
       " 2,\n",
       " 1,\n",
       " 1,\n",
       " 2,\n",
       " 3,\n",
       " 1,\n",
       " 3,\n",
       " 4,\n",
       " 3,\n",
       " 1,\n",
       " 5,\n",
       " 0,\n",
       " 3,\n",
       " 2,\n",
       " 13,\n",
       " 1,\n",
       " 60,\n",
       " 1,\n",
       " 19,\n",
       " 10,\n",
       " 64,\n",
       " 1,\n",
       " 23,\n",
       " 13,\n",
       " 69,\n",
       " 1,\n",
       " 6,\n",
       " 27,\n",
       " 71,\n",
       " 1,\n",
       " 9,\n",
       " 31,\n",
       " 74,\n",
       " 2,\n",
       " 10,\n",
       " 35,\n",
       " 296,\n",
       " 1,\n",
       " 39,\n",
       " 6,\n",
       " 298,\n",
       " 1,\n",
       " 6,\n",
       " 43,\n",
       " 300,\n",
       " 2,\n",
       " 13,\n",
       " 47,\n",
       " 1500,\n",
       " 1,\n",
       " 51,\n",
       " 6,\n",
       " 1502,\n",
       " 2,\n",
       " 6,\n",
       " 55,\n",
       " 3004,\n",
       " 2,\n",
       " 59,\n",
       " 6,\n",
       " 6008,\n",
       " 2,\n",
       " 63,\n",
       " 13,\n",
       " 30040,\n",
       " 1,\n",
       " 5,\n",
       " 67,\n",
       " 30041,\n",
       " 2,\n",
       " 9,\n",
       " 71,\n",
       " 90123,\n",
       " 1,\n",
       " 5,\n",
       " 75,\n",
       " 90124,\n",
       " 1,\n",
       " 5,\n",
       " 79,\n",
       " 90125,\n",
       " 1,\n",
       " 83,\n",
       " 6,\n",
       " 90127,\n",
       " 1,\n",
       " 87,\n",
       " 6,\n",
       " 90129,\n",
       " 1,\n",
       " 91,\n",
       " 5,\n",
       " 90130,\n",
       " 2,\n",
       " 10,\n",
       " 95,\n",
       " 360520,\n",
       " 1,\n",
       " 5,\n",
       " 99,\n",
       " 360521,\n",
       " 1,\n",
       " 10,\n",
       " 103,\n",
       " 360525,\n",
       " 1,\n",
       " 107,\n",
       " 9,\n",
       " 360528,\n",
       " 2,\n",
       " 111,\n",
       " 10,\n",
       " 1442112,\n",
       " 1,\n",
       " 115,\n",
       " 9,\n",
       " 1442115,\n",
       " 1,\n",
       " 13,\n",
       " 119,\n",
       " 1442120,\n",
       " 1,\n",
       " 123,\n",
       " 9,\n",
       " 1442123,\n",
       " 1,\n",
       " 5,\n",
       " 127,\n",
       " 1442124,\n",
       " 2,\n",
       " 13,\n",
       " 131,\n",
       " 7210620,\n",
       " 1,\n",
       " 9,\n",
       " 135,\n",
       " 7210623,\n",
       " 1,\n",
       " 2,\n",
       " 139,\n",
       " 7210625,\n",
       " 1,\n",
       " 13,\n",
       " 143,\n",
       " 0,\n",
       " 99,\n",
       " 2,\n",
       " 0,\n",
       " 14,\n",
       " 0]"
      ]
     },
     "execution_count": 51,
     "metadata": {},
     "output_type": "execute_result"
    }
   ],
   "source": [
    "data"
   ]
  },
  {
   "cell_type": "markdown",
   "metadata": {},
   "source": [
    "## Puzzle 2"
   ]
  },
  {
   "cell_type": "code",
   "execution_count": 58,
   "metadata": {},
   "outputs": [],
   "source": [
    "def intcode(data, noun, verb):\n",
    "    data[1] = noun\n",
    "    data[2] = verb\n",
    "    opindex = 0\n",
    "    while data[opindex] != 99:\n",
    "        if data[opindex] == 1:\n",
    "            data[data[opindex + 3]] = data[data[opindex + 1]] + data[data[opindex + 2]] \n",
    "        elif data[opindex] == 2:\n",
    "            data[data[opindex + 3]] = data[data[opindex + 1]] * data[data[opindex + 2]]\n",
    "        else:\n",
    "            print(\"ERROR!\")\n",
    "            return -1\n",
    "        opindex += 4\n",
    "    return data[0]"
   ]
  },
  {
   "cell_type": "code",
   "execution_count": 77,
   "metadata": {},
   "outputs": [],
   "source": [
    "data = [1,0,0,3,1,1,2,3,1,3,4,3,1,5,0,3,2,13,1,19,1,19,10,23,1,23,13,27,1,6,27,31,1,9,31,35,2,10,35,39,1,39,6,43,1,6,43,47,2,13,47,51,1,51,6,55,2,6,55,59,2,59,6,63,2,63,13,67,1,5,67,71,2,9,71,75,1,5,75,79,1,5,79,83,1,83,6,87,1,87,6,91,1,91,5,95,2,10,95,99,1,5,99,103,1,10,103,107,1,107,9,111,2,111,10,115,1,115,9,119,1,13,119,123,1,123,9,127,1,5,127,131,2,13,131,135,1,9,135,139,1,2,139,143,1,13,143,0,99,2,0,14,0]"
   ]
  },
  {
   "cell_type": "code",
   "execution_count": 78,
   "metadata": {},
   "outputs": [
    {
     "data": {
      "text/plain": [
       "19690720"
      ]
     },
     "execution_count": 78,
     "metadata": {},
     "output_type": "execute_result"
    }
   ],
   "source": [
    "intcode(data, 38, 92)"
   ]
  },
  {
   "cell_type": "code",
   "execution_count": 74,
   "metadata": {},
   "outputs": [
    {
     "name": "stdout",
     "output_type": "stream",
     "text": [
      "38 1 91\n",
      "38 2 90\n",
      "38 3 89\n",
      "38 4 88\n",
      "38 5 87\n",
      "38 6 86\n",
      "38 7 85\n",
      "38 8 84\n",
      "38 9 83\n",
      "38 10 82\n",
      "38 11 81\n",
      "38 12 80\n",
      "38 13 79\n",
      "38 14 78\n",
      "38 15 77\n",
      "38 16 76\n",
      "38 17 75\n",
      "38 18 74\n",
      "38 19 73\n",
      "38 20 72\n",
      "38 21 71\n",
      "38 22 70\n",
      "38 23 69\n",
      "38 24 68\n",
      "38 25 67\n",
      "38 26 66\n",
      "38 27 65\n",
      "38 28 64\n",
      "38 29 63\n",
      "38 30 62\n",
      "38 31 61\n",
      "38 32 60\n",
      "38 33 59\n",
      "38 34 58\n",
      "38 35 57\n",
      "38 36 56\n",
      "38 37 55\n",
      "38 38 54\n",
      "38 39 53\n",
      "38 40 52\n",
      "38 41 51\n",
      "38 42 50\n",
      "38 43 49\n",
      "38 44 48\n",
      "38 45 47\n",
      "38 46 46\n",
      "38 47 45\n",
      "38 48 44\n",
      "38 49 43\n",
      "38 50 42\n",
      "38 51 41\n",
      "38 52 40\n",
      "38 53 39\n",
      "38 54 38\n",
      "38 55 37\n",
      "38 56 36\n",
      "38 57 35\n",
      "38 58 34\n",
      "38 59 33\n",
      "38 60 32\n",
      "38 61 31\n",
      "38 62 30\n",
      "38 63 29\n",
      "38 64 28\n",
      "38 65 27\n",
      "38 66 26\n",
      "38 67 25\n",
      "38 68 24\n",
      "38 69 23\n",
      "38 70 22\n",
      "38 71 21\n",
      "38 72 20\n",
      "38 73 19\n",
      "38 74 18\n",
      "38 75 17\n",
      "38 76 16\n",
      "38 77 15\n",
      "38 78 14\n",
      "38 79 13\n",
      "38 80 12\n",
      "38 81 11\n",
      "38 82 10\n",
      "38 83 9\n",
      "38 84 8\n",
      "38 85 7\n",
      "38 86 6\n",
      "38 87 5\n",
      "38 88 4\n",
      "38 89 3\n",
      "38 90 2\n",
      "38 91 1\n",
      "38 92 0\n",
      "38 93 -1\n",
      "38 94 -2\n",
      "38 95 -3\n",
      "38 96 -4\n",
      "38 97 -5\n",
      "38 98 -6\n",
      "38 99 -7\n"
     ]
    }
   ],
   "source": [
    "for n in range(38, 39):\n",
    "    for v in range(1, 100):\n",
    "        data = [1,0,0,3,1,1,2,3,1,3,4,3,1,5,0,3,2,13,1,19,1,19,10,23,1,23,13,27,1,6,27,31,1,9,31,35,2,10,35,39,1,39,6,43,1,6,43,47,2,13,47,51,1,51,6,55,2,6,55,59,2,59,6,63,2,63,13,67,1,5,67,71,2,9,71,75,1,5,75,79,1,5,79,83,1,83,6,87,1,87,6,91,1,91,5,95,2,10,95,99,1,5,99,103,1,10,103,107,1,107,9,111,2,111,10,115,1,115,9,119,1,13,119,123,1,123,9,127,1,5,127,131,2,13,131,135,1,9,135,139,1,2,139,143,1,13,143,0,99,2,0,14,0]\n",
    "        i = intcode(data, n, v)\n",
    "        print(n, v, 19690720 - i)"
   ]
  },
  {
   "cell_type": "code",
   "execution_count": 79,
   "metadata": {},
   "outputs": [
    {
     "data": {
      "text/plain": [
       "3892"
      ]
     },
     "execution_count": 79,
     "metadata": {},
     "output_type": "execute_result"
    }
   ],
   "source": [
    "100 * 38 + 92"
   ]
  },
  {
   "cell_type": "markdown",
   "metadata": {},
   "source": [
    "# Day 3"
   ]
  },
  {
   "cell_type": "markdown",
   "metadata": {},
   "source": [
    "## Puzzle 1"
   ]
  },
  {
   "cell_type": "code",
   "execution_count": 95,
   "metadata": {},
   "outputs": [],
   "source": [
    "def path(directions):\n",
    "    deltas = {\"U\": (0, 1),\n",
    "              \"D\": (0, -1),\n",
    "              \"L\": (-1, 0),\n",
    "              \"R\": (1, 0)}\n",
    "    \n",
    "    p = set()\n",
    "    coord = np.array((0,0))\n",
    "    #p.add(tuple(coord))\n",
    "    dirs = directions.split(\",\")\n",
    "    for d in dirs:\n",
    "        card = d[0]\n",
    "        dist = int(d[1:])\n",
    "        for i in range(dist):\n",
    "            coord += deltas[card]\n",
    "            p.add(tuple(coord))\n",
    "    return p"
   ]
  },
  {
   "cell_type": "code",
   "execution_count": 108,
   "metadata": {},
   "outputs": [],
   "source": [
    "def cportdist(wire1, wire2):\n",
    "    w1 = path(wire1)\n",
    "    w2 = path(wire2)\n",
    "    i = w1.intersection(w2)\n",
    "    print(i)\n",
    "    least = 1000000000000\n",
    "    for c in i:\n",
    "        mdist = abs(c[0]) + abs(c[1])\n",
    "        if mdist < least:\n",
    "            least = mdist\n",
    "    return least"
   ]
  },
  {
   "cell_type": "code",
   "execution_count": 109,
   "metadata": {},
   "outputs": [
    {
     "name": "stdout",
     "output_type": "stream",
     "text": [
      "{(3, 3), (6, 5)}\n"
     ]
    },
    {
     "data": {
      "text/plain": [
       "6"
      ]
     },
     "execution_count": 109,
     "metadata": {},
     "output_type": "execute_result"
    }
   ],
   "source": [
    "cportdist(\"R8,U5,L5,D3\", \"U7,R6,D4,L4\")"
   ]
  },
  {
   "cell_type": "code",
   "execution_count": 110,
   "metadata": {},
   "outputs": [
    {
     "name": "stdout",
     "output_type": "stream",
     "text": [
      "{(146, 46), (158, -12), (155, 4), (155, 11)}\n"
     ]
    },
    {
     "data": {
      "text/plain": [
       "159"
      ]
     },
     "execution_count": 110,
     "metadata": {},
     "output_type": "execute_result"
    }
   ],
   "source": [
    "cportdist(\"R75,D30,R83,U83,L12,D49,R71,U7,L72\", \"U62,R66,U55,R34,D71,R55,D58,R83\")"
   ]
  },
  {
   "cell_type": "code",
   "execution_count": 111,
   "metadata": {},
   "outputs": [
    {
     "name": "stdout",
     "output_type": "stream",
     "text": [
      "{(124, 11), (107, 71), (107, 51), (107, 47), (157, 18)}\n"
     ]
    },
    {
     "data": {
      "text/plain": [
       "135"
      ]
     },
     "execution_count": 111,
     "metadata": {},
     "output_type": "execute_result"
    }
   ],
   "source": [
    "cportdist(\"R98,U47,R26,D63,R33,U87,L62,D20,R33,U53,R51\", \"U98,R91,D20,R16,D67,R40,U7,R15,U6,R7\")"
   ]
  },
  {
   "cell_type": "code",
   "execution_count": 115,
   "metadata": {},
   "outputs": [
    {
     "name": "stdout",
     "output_type": "stream",
     "text": [
      "{(292, 1315), (68, 1064), (604, 629), (297, 716), (681, 629), (170, 352), (315, 712), (786, 712), (170, 965), (156, 1454), (258, 1454), (292, 1064), (854, 221), (681, 0), (170, 815), (57, 404), (-205, 404), (292, 1091), (-132, 815), (-4, 1062), (68, 965), (292, 1277), (297, 1026), (141, 1062), (-488, 0), (-488, 308), (403, 0), (57, 629), (604, 545), (681, 545), (610, 0), (68, 1114), (68, 815), (297, 1062), (57, 1062), (292, 965), (-49, 1062), (681, 221), (68, 790), (604, 221), (292, 815), (292, 1114), (837, 712)}\n"
     ]
    },
    {
     "data": {
      "text/plain": [
       "403"
      ]
     },
     "execution_count": 115,
     "metadata": {},
     "output_type": "execute_result"
    }
   ],
   "source": [
    "fin = open(\"data/input3.txt\")\n",
    "data = fin.readlines()\n",
    "cportdist(data[0].strip(), data[1].strip())"
   ]
  },
  {
   "cell_type": "markdown",
   "metadata": {},
   "source": [
    "## Puzzle 2"
   ]
  },
  {
   "cell_type": "code",
   "execution_count": 121,
   "metadata": {},
   "outputs": [],
   "source": [
    "def path(directions):\n",
    "    deltas = {\"U\": (0, 1),\n",
    "              \"D\": (0, -1),\n",
    "              \"L\": (-1, 0),\n",
    "              \"R\": (1, 0)}\n",
    "    \n",
    "    p = {}\n",
    "    coord = np.array((0,0))\n",
    "    steps = 0\n",
    "    dirs = directions.split(\",\")\n",
    "    for d in dirs:\n",
    "        card = d[0]\n",
    "        dist = int(d[1:])\n",
    "        for i in range(dist):\n",
    "            steps += 1\n",
    "            coord += deltas[card]\n",
    "            if tuple(coord) not in p:\n",
    "                p[tuple(coord)] = steps\n",
    "    return p"
   ]
  },
  {
   "cell_type": "code",
   "execution_count": 124,
   "metadata": {},
   "outputs": [],
   "source": [
    "def cportstepdist(wire1, wire2):\n",
    "    w1 = path(wire1)\n",
    "    w2 = path(wire2)\n",
    "    i = set(w1.keys()).intersection(set(w2.keys()))\n",
    "    print(i)\n",
    "    least = 1000000000000\n",
    "    for c in i:\n",
    "        mdist = w1[c] + w2[c]\n",
    "        if mdist < least:\n",
    "            least = mdist\n",
    "    return least"
   ]
  },
  {
   "cell_type": "code",
   "execution_count": 125,
   "metadata": {},
   "outputs": [
    {
     "name": "stdout",
     "output_type": "stream",
     "text": [
      "{(3, 3), (6, 5)}\n"
     ]
    },
    {
     "data": {
      "text/plain": [
       "30"
      ]
     },
     "execution_count": 125,
     "metadata": {},
     "output_type": "execute_result"
    }
   ],
   "source": [
    "cportstepdist(\"R8,U5,L5,D3\", \"U7,R6,D4,L4\")"
   ]
  },
  {
   "cell_type": "code",
   "execution_count": 126,
   "metadata": {},
   "outputs": [
    {
     "name": "stdout",
     "output_type": "stream",
     "text": [
      "{(146, 46), (158, -12), (155, 4), (155, 11)}\n"
     ]
    },
    {
     "data": {
      "text/plain": [
       "610"
      ]
     },
     "execution_count": 126,
     "metadata": {},
     "output_type": "execute_result"
    }
   ],
   "source": [
    "cportstepdist(\"R75,D30,R83,U83,L12,D49,R71,U7,L72\", \"U62,R66,U55,R34,D71,R55,D58,R83\")"
   ]
  },
  {
   "cell_type": "code",
   "execution_count": 127,
   "metadata": {},
   "outputs": [
    {
     "name": "stdout",
     "output_type": "stream",
     "text": [
      "{(124, 11), (107, 71), (107, 51), (107, 47), (157, 18)}\n"
     ]
    },
    {
     "data": {
      "text/plain": [
       "410"
      ]
     },
     "execution_count": 127,
     "metadata": {},
     "output_type": "execute_result"
    }
   ],
   "source": [
    "cportstepdist(\"R98,U47,R26,D63,R33,U87,L62,D20,R33,U53,R51\", \"U98,R91,D20,R16,D67,R40,U7,R15,U6,R7\")"
   ]
  },
  {
   "cell_type": "code",
   "execution_count": 128,
   "metadata": {},
   "outputs": [
    {
     "name": "stdout",
     "output_type": "stream",
     "text": [
      "{(292, 1315), (68, 1064), (604, 629), (297, 716), (681, 629), (170, 352), (315, 712), (786, 712), (170, 965), (156, 1454), (258, 1454), (292, 1064), (854, 221), (681, 0), (170, 815), (57, 404), (-205, 404), (292, 1091), (-132, 815), (-4, 1062), (68, 965), (292, 1277), (297, 1026), (141, 1062), (-488, 0), (-488, 308), (403, 0), (57, 629), (604, 545), (681, 545), (610, 0), (68, 1114), (68, 815), (297, 1062), (57, 1062), (292, 965), (-49, 1062), (681, 221), (68, 790), (604, 221), (292, 815), (292, 1114), (837, 712)}\n"
     ]
    },
    {
     "data": {
      "text/plain": [
       "4158"
      ]
     },
     "execution_count": 128,
     "metadata": {},
     "output_type": "execute_result"
    }
   ],
   "source": [
    "fin = open(\"data/input3.txt\")\n",
    "data = fin.readlines()\n",
    "cportstepdist(data[0].strip(), data[1].strip())"
   ]
  },
  {
   "cell_type": "markdown",
   "metadata": {},
   "source": [
    "# Day 4"
   ]
  },
  {
   "cell_type": "markdown",
   "metadata": {},
   "source": [
    "## Puzzle 1"
   ]
  },
  {
   "cell_type": "code",
   "execution_count": 130,
   "metadata": {},
   "outputs": [],
   "source": [
    "def adj(word):\n",
    "    for i in range(len(word) - 1):\n",
    "        if word[i] == word[i + 1]:\n",
    "            return True\n",
    "    return False"
   ]
  },
  {
   "cell_type": "code",
   "execution_count": 131,
   "metadata": {},
   "outputs": [],
   "source": [
    "def inc(word):\n",
    "    for i in range(len(word) - 1):\n",
    "        if word[i] > word[i + 1]:\n",
    "            return False\n",
    "    return True"
   ]
  },
  {
   "cell_type": "code",
   "execution_count": 133,
   "metadata": {},
   "outputs": [],
   "source": [
    "def valid(word):\n",
    "    return adj(word) and inc(word)"
   ]
  },
  {
   "cell_type": "code",
   "execution_count": 135,
   "metadata": {},
   "outputs": [
    {
     "data": {
      "text/plain": [
       "True"
      ]
     },
     "execution_count": 135,
     "metadata": {},
     "output_type": "execute_result"
    }
   ],
   "source": [
    "valid(\"111111\")"
   ]
  },
  {
   "cell_type": "code",
   "execution_count": 136,
   "metadata": {},
   "outputs": [
    {
     "data": {
      "text/plain": [
       "False"
      ]
     },
     "execution_count": 136,
     "metadata": {},
     "output_type": "execute_result"
    }
   ],
   "source": [
    "valid(\"223450\")"
   ]
  },
  {
   "cell_type": "code",
   "execution_count": 137,
   "metadata": {},
   "outputs": [
    {
     "data": {
      "text/plain": [
       "False"
      ]
     },
     "execution_count": 137,
     "metadata": {},
     "output_type": "execute_result"
    }
   ],
   "source": [
    "valid(\"123789\")"
   ]
  },
  {
   "cell_type": "code",
   "execution_count": 134,
   "metadata": {},
   "outputs": [
    {
     "data": {
      "text/plain": [
       "1019"
      ]
     },
     "execution_count": 134,
     "metadata": {},
     "output_type": "execute_result"
    }
   ],
   "source": [
    "count = 0\n",
    "for i in range(248345,746316):\n",
    "    w = str(i)\n",
    "    if valid(w):\n",
    "        count += 1\n",
    "count"
   ]
  },
  {
   "cell_type": "markdown",
   "metadata": {},
   "source": [
    "## Puzzle 2"
   ]
  },
  {
   "cell_type": "code",
   "execution_count": 138,
   "metadata": {},
   "outputs": [],
   "source": [
    "def newadj(word):\n",
    "    streak = 0\n",
    "    for i in range(len(word) - 1):\n",
    "        if word[i] == word[i + 1]:\n",
    "            streak += 1\n",
    "        else:\n",
    "            if streak == 1:\n",
    "                return True\n",
    "            else:\n",
    "                streak = 0\n",
    "    return streak == 1"
   ]
  },
  {
   "cell_type": "code",
   "execution_count": 139,
   "metadata": {},
   "outputs": [],
   "source": [
    "def newvalid(word):\n",
    "    return newadj(word) and inc(word)"
   ]
  },
  {
   "cell_type": "code",
   "execution_count": 141,
   "metadata": {},
   "outputs": [
    {
     "data": {
      "text/plain": [
       "True"
      ]
     },
     "execution_count": 141,
     "metadata": {},
     "output_type": "execute_result"
    }
   ],
   "source": [
    "newvalid(\"112233\")"
   ]
  },
  {
   "cell_type": "code",
   "execution_count": 142,
   "metadata": {},
   "outputs": [
    {
     "data": {
      "text/plain": [
       "False"
      ]
     },
     "execution_count": 142,
     "metadata": {},
     "output_type": "execute_result"
    }
   ],
   "source": [
    "newvalid(\"123444\")"
   ]
  },
  {
   "cell_type": "code",
   "execution_count": 143,
   "metadata": {},
   "outputs": [
    {
     "data": {
      "text/plain": [
       "True"
      ]
     },
     "execution_count": 143,
     "metadata": {},
     "output_type": "execute_result"
    }
   ],
   "source": [
    "newvalid(\"111122\")"
   ]
  },
  {
   "cell_type": "code",
   "execution_count": 144,
   "metadata": {},
   "outputs": [
    {
     "data": {
      "text/plain": [
       "660"
      ]
     },
     "execution_count": 144,
     "metadata": {},
     "output_type": "execute_result"
    }
   ],
   "source": [
    "count = 0\n",
    "for i in range(248345,746316):\n",
    "    w = str(i)\n",
    "    if newvalid(w):\n",
    "        count += 1\n",
    "count"
   ]
  },
  {
   "cell_type": "markdown",
   "metadata": {},
   "source": [
    "# Day 5"
   ]
  },
  {
   "cell_type": "markdown",
   "metadata": {},
   "source": [
    "## Puzzle 1"
   ]
  },
  {
   "cell_type": "code",
   "execution_count": null,
   "metadata": {},
   "outputs": [],
   "source": [
    "def intcode(data, noun, verb, inp):\n",
    "    skipd = {1:4, 2:4, 3:2, 4:2}\n",
    "    data[1] = noun\n",
    "    data[2] = verb\n",
    "    opindex = 0\n",
    "    opcode = data[opindex]\n",
    "    while opcode != 99:\n",
    "        if opcode == 1:\n",
    "            data[data[opindex + 3]] = data[data[opindex + 1]] + data[data[opindex + 2]] \n",
    "        elif opcode == 2:\n",
    "            data[data[opindex + 3]] = data[data[opindex + 1]] * data[data[opindex + 2]]\n",
    "        else:\n",
    "            print(\"ERROR!\")\n",
    "            return -1\n",
    "        opindex += skipd[opcode]\n",
    "    return data[0]"
   ]
  }
 ],
 "metadata": {
  "kernelspec": {
   "display_name": "Python 3",
   "language": "python",
   "name": "python3"
  },
  "language_info": {
   "codemirror_mode": {
    "name": "ipython",
    "version": 3
   },
   "file_extension": ".py",
   "mimetype": "text/x-python",
   "name": "python",
   "nbconvert_exporter": "python",
   "pygments_lexer": "ipython3",
   "version": "3.8.3"
  }
 },
 "nbformat": 4,
 "nbformat_minor": 4
}
