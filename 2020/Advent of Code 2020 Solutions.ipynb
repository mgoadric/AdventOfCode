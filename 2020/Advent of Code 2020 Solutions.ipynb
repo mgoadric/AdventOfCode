{
 "cells": [
  {
   "cell_type": "code",
   "execution_count": 1,
   "metadata": {},
   "outputs": [],
   "source": [
    "import pandas as pd\n",
    "from plotnine import *\n",
    "import numpy as np\n",
    "import re\n",
    "\n",
    "%matplotlib inline"
   ]
  },
  {
   "cell_type": "markdown",
   "metadata": {},
   "source": [
    "# Day 1\n",
    "## Part 1"
   ]
  },
  {
   "cell_type": "code",
   "execution_count": 16,
   "metadata": {},
   "outputs": [],
   "source": [
    "df = pd.read_csv(\"data/input1.txt\", header=None, names=[\"Expense\"])"
   ]
  },
  {
   "cell_type": "code",
   "execution_count": 17,
   "metadata": {},
   "outputs": [
    {
     "data": {
      "text/html": [
       "<div>\n",
       "<style scoped>\n",
       "    .dataframe tbody tr th:only-of-type {\n",
       "        vertical-align: middle;\n",
       "    }\n",
       "\n",
       "    .dataframe tbody tr th {\n",
       "        vertical-align: top;\n",
       "    }\n",
       "\n",
       "    .dataframe thead th {\n",
       "        text-align: right;\n",
       "    }\n",
       "</style>\n",
       "<table border=\"1\" class=\"dataframe\">\n",
       "  <thead>\n",
       "    <tr style=\"text-align: right;\">\n",
       "      <th></th>\n",
       "      <th>Expense</th>\n",
       "    </tr>\n",
       "  </thead>\n",
       "  <tbody>\n",
       "    <tr>\n",
       "      <th>0</th>\n",
       "      <td>1287</td>\n",
       "    </tr>\n",
       "    <tr>\n",
       "      <th>1</th>\n",
       "      <td>1366</td>\n",
       "    </tr>\n",
       "    <tr>\n",
       "      <th>2</th>\n",
       "      <td>1669</td>\n",
       "    </tr>\n",
       "    <tr>\n",
       "      <th>3</th>\n",
       "      <td>1724</td>\n",
       "    </tr>\n",
       "    <tr>\n",
       "      <th>4</th>\n",
       "      <td>1338</td>\n",
       "    </tr>\n",
       "    <tr>\n",
       "      <th>...</th>\n",
       "      <td>...</td>\n",
       "    </tr>\n",
       "    <tr>\n",
       "      <th>195</th>\n",
       "      <td>1862</td>\n",
       "    </tr>\n",
       "    <tr>\n",
       "      <th>196</th>\n",
       "      <td>1430</td>\n",
       "    </tr>\n",
       "    <tr>\n",
       "      <th>197</th>\n",
       "      <td>1793</td>\n",
       "    </tr>\n",
       "    <tr>\n",
       "      <th>198</th>\n",
       "      <td>1901</td>\n",
       "    </tr>\n",
       "    <tr>\n",
       "      <th>199</th>\n",
       "      <td>1909</td>\n",
       "    </tr>\n",
       "  </tbody>\n",
       "</table>\n",
       "<p>200 rows × 1 columns</p>\n",
       "</div>"
      ],
      "text/plain": [
       "     Expense\n",
       "0       1287\n",
       "1       1366\n",
       "2       1669\n",
       "3       1724\n",
       "4       1338\n",
       "..       ...\n",
       "195     1862\n",
       "196     1430\n",
       "197     1793\n",
       "198     1901\n",
       "199     1909\n",
       "\n",
       "[200 rows x 1 columns]"
      ]
     },
     "execution_count": 17,
     "metadata": {},
     "output_type": "execute_result"
    }
   ],
   "source": [
    "df"
   ]
  },
  {
   "cell_type": "code",
   "execution_count": 18,
   "metadata": {},
   "outputs": [],
   "source": [
    "def sum2020(data):\n",
    "    for i in range(len(data)):\n",
    "        for j in range(i, len(data)):\n",
    "            if data[i] + data[j] == 2020:\n",
    "                print(data[i], data[j])\n",
    "                return data[i] * data[j]"
   ]
  },
  {
   "cell_type": "code",
   "execution_count": 19,
   "metadata": {},
   "outputs": [
    {
     "name": "stdout",
     "output_type": "stream",
     "text": [
      "1721 299\n"
     ]
    },
    {
     "data": {
      "text/plain": [
       "514579"
      ]
     },
     "execution_count": 19,
     "metadata": {},
     "output_type": "execute_result"
    }
   ],
   "source": [
    "sample = [1721, 979, 366, 299, 675, 1456]\n",
    "sum2020(sample)"
   ]
  },
  {
   "cell_type": "code",
   "execution_count": 20,
   "metadata": {},
   "outputs": [
    {
     "name": "stdout",
     "output_type": "stream",
     "text": [
      "437 1583\n"
     ]
    },
    {
     "data": {
      "text/plain": [
       "691771"
      ]
     },
     "execution_count": 20,
     "metadata": {},
     "output_type": "execute_result"
    }
   ],
   "source": [
    "sum2020(df[\"Expense\"].values)"
   ]
  },
  {
   "cell_type": "markdown",
   "metadata": {},
   "source": [
    "## Part 2"
   ]
  },
  {
   "cell_type": "code",
   "execution_count": 21,
   "metadata": {},
   "outputs": [],
   "source": [
    "def sumthree2020(data):\n",
    "    for i in range(len(data)):\n",
    "        for j in range(i, len(data)):\n",
    "            for k in range(j, len(data)):\n",
    "                if data[i] + data[j] + data[k] == 2020:\n",
    "                    print(data[i], data[j], data[k])\n",
    "                    return data[i] * data[j] * data[k]"
   ]
  },
  {
   "cell_type": "code",
   "execution_count": 22,
   "metadata": {},
   "outputs": [
    {
     "name": "stdout",
     "output_type": "stream",
     "text": [
      "979 366 675\n"
     ]
    },
    {
     "data": {
      "text/plain": [
       "241861950"
      ]
     },
     "execution_count": 22,
     "metadata": {},
     "output_type": "execute_result"
    }
   ],
   "source": [
    "sample = [1721, 979, 366, 299, 675, 1456]\n",
    "sumthree2020(sample)"
   ]
  },
  {
   "cell_type": "code",
   "execution_count": 23,
   "metadata": {},
   "outputs": [
    {
     "name": "stdout",
     "output_type": "stream",
     "text": [
      "717 335 968\n"
     ]
    },
    {
     "data": {
      "text/plain": [
       "232508760"
      ]
     },
     "execution_count": 23,
     "metadata": {},
     "output_type": "execute_result"
    }
   ],
   "source": [
    "sumthree2020(df[\"Expense\"].values)"
   ]
  },
  {
   "cell_type": "markdown",
   "metadata": {},
   "source": [
    "# Day 2\n",
    "## Part 1"
   ]
  },
  {
   "cell_type": "code",
   "execution_count": 24,
   "metadata": {},
   "outputs": [],
   "source": [
    "sample = [\"1-3 a: abcde\", \"1-3 b: cdefg\", \"2-9 c: ccccccccc\"]"
   ]
  },
  {
   "cell_type": "code",
   "execution_count": 25,
   "metadata": {},
   "outputs": [],
   "source": [
    "def num_valid(pwords):\n",
    "    count = 0\n",
    "    for p in pwords:\n",
    "        pieces = p.split()\n",
    "        t = pieces[2].count(pieces[1][0])\n",
    "        low, high = [int(x) for x in pieces[0].split(\"-\")]\n",
    "        if low <= t <= high:\n",
    "            count += 1\n",
    "    return count"
   ]
  },
  {
   "cell_type": "code",
   "execution_count": 26,
   "metadata": {},
   "outputs": [
    {
     "data": {
      "text/plain": [
       "2"
      ]
     },
     "execution_count": 26,
     "metadata": {},
     "output_type": "execute_result"
    }
   ],
   "source": [
    "num_valid(sample)"
   ]
  },
  {
   "cell_type": "code",
   "execution_count": 27,
   "metadata": {},
   "outputs": [],
   "source": [
    "fin = open(\"data/input2.txt\")\n",
    "data = fin.readlines()\n",
    "fin.close()"
   ]
  },
  {
   "cell_type": "code",
   "execution_count": 28,
   "metadata": {},
   "outputs": [
    {
     "data": {
      "text/plain": [
       "636"
      ]
     },
     "execution_count": 28,
     "metadata": {},
     "output_type": "execute_result"
    }
   ],
   "source": [
    "num_valid(data)"
   ]
  },
  {
   "cell_type": "markdown",
   "metadata": {},
   "source": [
    "## Part 2"
   ]
  },
  {
   "cell_type": "code",
   "execution_count": 29,
   "metadata": {},
   "outputs": [],
   "source": [
    "def num_valid(pwords):\n",
    "    count = 0\n",
    "    for p in pwords:\n",
    "        pieces = p.split()\n",
    "        first, second = [int(x) - 1 for x in pieces[0].split(\"-\")]\n",
    "        nw = pieces[2][first] + pieces[2][second]\n",
    "        c = pieces[1][0]\n",
    "        if nw.count(c) == 1:\n",
    "            count += 1\n",
    "    return count"
   ]
  },
  {
   "cell_type": "code",
   "execution_count": 30,
   "metadata": {},
   "outputs": [
    {
     "data": {
      "text/plain": [
       "1"
      ]
     },
     "execution_count": 30,
     "metadata": {},
     "output_type": "execute_result"
    }
   ],
   "source": [
    "num_valid(sample)"
   ]
  },
  {
   "cell_type": "code",
   "execution_count": 31,
   "metadata": {},
   "outputs": [
    {
     "data": {
      "text/plain": [
       "588"
      ]
     },
     "execution_count": 31,
     "metadata": {},
     "output_type": "execute_result"
    }
   ],
   "source": [
    "num_valid(data)"
   ]
  },
  {
   "cell_type": "markdown",
   "metadata": {},
   "source": [
    "# Day 3\n",
    "## Puzzle 1"
   ]
  },
  {
   "cell_type": "code",
   "execution_count": 32,
   "metadata": {},
   "outputs": [],
   "source": [
    "sample = [\"..##.......\",\n",
    "\"#...#...#..\",\n",
    "\".#....#..#.\",\n",
    "\"..#.#...#.#\",\n",
    "\".#...##..#.\",\n",
    "\"..#.##.....\",\n",
    "\".#.#.#....#\",\n",
    "\".#........#\",\n",
    "\"#.##...#...\",\n",
    "\"#...##....#\",\n",
    "\".#..#...#.#\",\n",
    "]"
   ]
  },
  {
   "cell_type": "code",
   "execution_count": 33,
   "metadata": {},
   "outputs": [
    {
     "data": {
      "text/plain": [
       "['..##.......',\n",
       " '#...#...#..',\n",
       " '.#....#..#.',\n",
       " '..#.#...#.#',\n",
       " '.#...##..#.',\n",
       " '..#.##.....',\n",
       " '.#.#.#....#',\n",
       " '.#........#',\n",
       " '#.##...#...',\n",
       " '#...##....#',\n",
       " '.#..#...#.#']"
      ]
     },
     "execution_count": 33,
     "metadata": {},
     "output_type": "execute_result"
    }
   ],
   "source": [
    "sample"
   ]
  },
  {
   "cell_type": "code",
   "execution_count": 34,
   "metadata": {},
   "outputs": [],
   "source": [
    "def num_trees(right, down, trees):\n",
    "    count = 0\n",
    "    loc = [0, 0]\n",
    "    while loc[0] < len(trees):\n",
    "        loc[0] += down\n",
    "        loc[1] += right\n",
    "        loc[1] %= len(trees[0])\n",
    "        if loc[0] < len(trees):\n",
    "            #print(loc, trees[loc[0]][loc[1]])\n",
    "            if trees[loc[0]][loc[1]] == \"#\":\n",
    "                count += 1\n",
    "    return count"
   ]
  },
  {
   "cell_type": "code",
   "execution_count": 35,
   "metadata": {},
   "outputs": [
    {
     "data": {
      "text/plain": [
       "7"
      ]
     },
     "execution_count": 35,
     "metadata": {},
     "output_type": "execute_result"
    }
   ],
   "source": [
    "num_trees(3, 1, sample)"
   ]
  },
  {
   "cell_type": "code",
   "execution_count": 36,
   "metadata": {},
   "outputs": [],
   "source": [
    "fin = open(\"data/input3.txt\")\n",
    "treemap = [line.strip() for line in fin.readlines()]\n",
    "fin.close()"
   ]
  },
  {
   "cell_type": "code",
   "execution_count": 37,
   "metadata": {},
   "outputs": [
    {
     "data": {
      "text/plain": [
       "191"
      ]
     },
     "execution_count": 37,
     "metadata": {},
     "output_type": "execute_result"
    }
   ],
   "source": [
    "num_trees(3, 1, treemap)"
   ]
  },
  {
   "cell_type": "markdown",
   "metadata": {},
   "source": [
    "## Part 2"
   ]
  },
  {
   "cell_type": "code",
   "execution_count": 38,
   "metadata": {},
   "outputs": [],
   "source": [
    "slopes = [(1, 1), (3, 1), (5, 1), (7, 1), (1, 2)]"
   ]
  },
  {
   "cell_type": "code",
   "execution_count": 39,
   "metadata": {},
   "outputs": [],
   "source": [
    "def all_paths(slope_list, data):\n",
    "    num = 1\n",
    "    for r, d in slopes:\n",
    "        num *= num_trees(r, d, data)\n",
    "    return num"
   ]
  },
  {
   "cell_type": "code",
   "execution_count": 40,
   "metadata": {},
   "outputs": [
    {
     "data": {
      "text/plain": [
       "336"
      ]
     },
     "execution_count": 40,
     "metadata": {},
     "output_type": "execute_result"
    }
   ],
   "source": [
    "all_paths(slopes, sample)"
   ]
  },
  {
   "cell_type": "code",
   "execution_count": 41,
   "metadata": {},
   "outputs": [
    {
     "data": {
      "text/plain": [
       "1478615040"
      ]
     },
     "execution_count": 41,
     "metadata": {},
     "output_type": "execute_result"
    }
   ],
   "source": [
    "all_paths(slopes, treemap)"
   ]
  },
  {
   "cell_type": "markdown",
   "metadata": {},
   "source": [
    "# Day 4\n",
    "## Part 1"
   ]
  },
  {
   "cell_type": "code",
   "execution_count": 2,
   "metadata": {},
   "outputs": [],
   "source": [
    "expected = set([\"byr\", \"iyr\", \"eyr\", \"hgt\", \"hcl\", \"ecl\", \"pid\", \"cid\"])"
   ]
  },
  {
   "cell_type": "code",
   "execution_count": 3,
   "metadata": {},
   "outputs": [],
   "source": [
    "np_expected = expected.copy()\n",
    "np_expected.remove(\"cid\")"
   ]
  },
  {
   "cell_type": "code",
   "execution_count": 4,
   "metadata": {},
   "outputs": [],
   "source": [
    "def make_pdict(s):\n",
    "    d = {}\n",
    "    for field in s.split():\n",
    "        k, v = field.split(\":\")\n",
    "        d[k] = v\n",
    "    return d"
   ]
  },
  {
   "cell_type": "code",
   "execution_count": 5,
   "metadata": {},
   "outputs": [],
   "source": [
    "def get_data(filename):\n",
    "    passports = []\n",
    "    fin = open(filename)\n",
    "    current = \"\"\n",
    "    for line in fin:\n",
    "        if line.strip() != \"\":\n",
    "            current += \" \" + line.strip()\n",
    "        else:\n",
    "            passports.append(make_pdict(current))\n",
    "            current = \"\"\n",
    "    passports.append(make_pdict(current))\n",
    "    return passports"
   ]
  },
  {
   "cell_type": "code",
   "execution_count": 6,
   "metadata": {},
   "outputs": [],
   "source": [
    "def count_valid(filename):\n",
    "    count = 0\n",
    "    ps = get_data(filename)\n",
    "    for p in ps:\n",
    "        if set(p.keys()).issuperset(np_expected):\n",
    "            count += 1\n",
    "    return count"
   ]
  },
  {
   "cell_type": "code",
   "execution_count": 7,
   "metadata": {},
   "outputs": [
    {
     "data": {
      "text/plain": [
       "2"
      ]
     },
     "execution_count": 7,
     "metadata": {},
     "output_type": "execute_result"
    }
   ],
   "source": [
    "count_valid(\"data/input4sample.txt\")"
   ]
  },
  {
   "cell_type": "code",
   "execution_count": 8,
   "metadata": {},
   "outputs": [
    {
     "data": {
      "text/plain": [
       "242"
      ]
     },
     "execution_count": 8,
     "metadata": {},
     "output_type": "execute_result"
    }
   ],
   "source": [
    "count_valid(\"data/input4.txt\")"
   ]
  },
  {
   "cell_type": "markdown",
   "metadata": {},
   "source": [
    "## Part 2"
   ]
  },
  {
   "cell_type": "code",
   "execution_count": 9,
   "metadata": {},
   "outputs": [],
   "source": [
    "def int_valid(s, low, high):\n",
    "    if not s.isdigit():\n",
    "        return False\n",
    "    y = int(s)\n",
    "    return low <= y <= high"
   ]
  },
  {
   "cell_type": "code",
   "execution_count": 10,
   "metadata": {},
   "outputs": [
    {
     "data": {
      "text/plain": [
       "False"
      ]
     },
     "execution_count": 10,
     "metadata": {},
     "output_type": "execute_result"
    }
   ],
   "source": [
    "int_valid(\"2003\", 1920, 2002)"
   ]
  },
  {
   "cell_type": "code",
   "execution_count": 11,
   "metadata": {},
   "outputs": [],
   "source": [
    "def length_valid(s, low, high, num):\n",
    "    return len(s) == num and int_valid(s, low, high)"
   ]
  },
  {
   "cell_type": "code",
   "execution_count": 12,
   "metadata": {},
   "outputs": [],
   "source": [
    "def count_valid(filename):\n",
    "    data = {}\n",
    "    for field in np_expected:\n",
    "        data[field] = []\n",
    "    \n",
    "    count = 0\n",
    "    ps = get_data(filename)\n",
    "    for p in ps:\n",
    "        if set(p.keys()).issuperset(np_expected):\n",
    "            valid = True\n",
    "            valid &= length_valid(p[\"byr\"], 1920, 2002, 4)\n",
    "            valid &= length_valid(p[\"iyr\"], 2010, 2020, 4)\n",
    "            valid &= length_valid(p[\"eyr\"], 2020, 2030, 4)\n",
    "            #hgt\n",
    "            hgt = p[\"hgt\"]\n",
    "            if hgt[-2:] == \"cm\":\n",
    "                valid &= int_valid(hgt[:-2], 150, 193)\n",
    "            elif hgt[-2:] == \"in\":\n",
    "                valid &= int_valid(hgt[:-2], 59, 76)\n",
    "            else:\n",
    "                valid = False\n",
    "            #hcl https://stackoverflow.com/questions/30241375/python-how-to-check-if-string-is-a-hex-color-code\n",
    "            valid &= bool(re.search(r'^#(?:[0-9a-fA-F]{3}){1,2}$', p[\"hcl\"]))\n",
    "            valid &= p[\"ecl\"] in {\"amb\",\"blu\",\"brn\",\"gry\",\"grn\",\"hzl\",\"oth\"}\n",
    "            valid &= length_valid(p[\"pid\"], 0, 999999999, 9)\n",
    "            if valid:\n",
    "                for field in np_expected:\n",
    "                    if field == \"hgt\":\n",
    "                        hgt = p[\"hgt\"]\n",
    "                        if hgt[-2:] == \"cm\":\n",
    "                            data[field].append(int(hgt[:-2]) * 0.393701)\n",
    "                        else:\n",
    "                            data[field].append(int(hgt[:-2]))\n",
    "                    else:\n",
    "                        data[field].append(p[field])\n",
    "                count += 1\n",
    "    return count, data"
   ]
  },
  {
   "cell_type": "code",
   "execution_count": 13,
   "metadata": {},
   "outputs": [
    {
     "data": {
      "text/plain": [
       "(4,\n",
       " {'hgt': [74, 64.960665, 64.566964, 62.204758000000005],\n",
       "  'byr': ['1980', '1989', '2001', '1944'],\n",
       "  'iyr': ['2012', '2014', '2015', '2010'],\n",
       "  'eyr': ['2030', '2029', '2022', '2021'],\n",
       "  'ecl': ['grn', 'blu', 'hzl', 'blu'],\n",
       "  'hcl': ['#623a2f', '#a97842', '#888785', '#b6652a'],\n",
       "  'pid': ['087499704', '896056539', '545766238', '093154719']})"
      ]
     },
     "execution_count": 13,
     "metadata": {},
     "output_type": "execute_result"
    }
   ],
   "source": [
    "count_valid(\"data/input4-2valid.txt\")"
   ]
  },
  {
   "cell_type": "code",
   "execution_count": 14,
   "metadata": {},
   "outputs": [
    {
     "data": {
      "text/plain": [
       "(0,\n",
       " {'hgt': [], 'byr': [], 'iyr': [], 'eyr': [], 'ecl': [], 'hcl': [], 'pid': []})"
      ]
     },
     "execution_count": 14,
     "metadata": {},
     "output_type": "execute_result"
    }
   ],
   "source": [
    "count_valid(\"data/input4-2invalid.txt\")"
   ]
  },
  {
   "cell_type": "code",
   "execution_count": 15,
   "metadata": {},
   "outputs": [],
   "source": [
    "c, data = count_valid(\"data/input4.txt\")"
   ]
  },
  {
   "cell_type": "code",
   "execution_count": 16,
   "metadata": {},
   "outputs": [
    {
     "data": {
      "text/plain": [
       "186"
      ]
     },
     "execution_count": 16,
     "metadata": {},
     "output_type": "execute_result"
    }
   ],
   "source": [
    "c"
   ]
  },
  {
   "cell_type": "code",
   "execution_count": 17,
   "metadata": {},
   "outputs": [],
   "source": [
    "df = pd.DataFrame(data)\n",
    "df[\"byr\"] = pd.to_datetime(df[\"byr\"])"
   ]
  },
  {
   "cell_type": "code",
   "execution_count": 18,
   "metadata": {},
   "outputs": [
    {
     "data": {
      "text/html": [
       "<div>\n",
       "<style scoped>\n",
       "    .dataframe tbody tr th:only-of-type {\n",
       "        vertical-align: middle;\n",
       "    }\n",
       "\n",
       "    .dataframe tbody tr th {\n",
       "        vertical-align: top;\n",
       "    }\n",
       "\n",
       "    .dataframe thead th {\n",
       "        text-align: right;\n",
       "    }\n",
       "</style>\n",
       "<table border=\"1\" class=\"dataframe\">\n",
       "  <thead>\n",
       "    <tr style=\"text-align: right;\">\n",
       "      <th></th>\n",
       "      <th>hgt</th>\n",
       "      <th>byr</th>\n",
       "      <th>iyr</th>\n",
       "      <th>eyr</th>\n",
       "      <th>ecl</th>\n",
       "      <th>hcl</th>\n",
       "      <th>pid</th>\n",
       "    </tr>\n",
       "  </thead>\n",
       "  <tbody>\n",
       "    <tr>\n",
       "      <th>0</th>\n",
       "      <td>63.385861</td>\n",
       "      <td>1977-01-01</td>\n",
       "      <td>2011</td>\n",
       "      <td>2027</td>\n",
       "      <td>grn</td>\n",
       "      <td>#a97842</td>\n",
       "      <td>910468396</td>\n",
       "    </tr>\n",
       "    <tr>\n",
       "      <th>1</th>\n",
       "      <td>73.228386</td>\n",
       "      <td>1941-01-01</td>\n",
       "      <td>2012</td>\n",
       "      <td>2029</td>\n",
       "      <td>gry</td>\n",
       "      <td>#cfa07d</td>\n",
       "      <td>108935675</td>\n",
       "    </tr>\n",
       "    <tr>\n",
       "      <th>2</th>\n",
       "      <td>59.448851</td>\n",
       "      <td>1966-01-01</td>\n",
       "      <td>2012</td>\n",
       "      <td>2020</td>\n",
       "      <td>grn</td>\n",
       "      <td>#ceb3a1</td>\n",
       "      <td>947726115</td>\n",
       "    </tr>\n",
       "    <tr>\n",
       "      <th>3</th>\n",
       "      <td>61.023655</td>\n",
       "      <td>1966-01-01</td>\n",
       "      <td>2012</td>\n",
       "      <td>2027</td>\n",
       "      <td>hzl</td>\n",
       "      <td>#888785</td>\n",
       "      <td>853607760</td>\n",
       "    </tr>\n",
       "    <tr>\n",
       "      <th>4</th>\n",
       "      <td>75.196891</td>\n",
       "      <td>1923-01-01</td>\n",
       "      <td>2019</td>\n",
       "      <td>2025</td>\n",
       "      <td>gry</td>\n",
       "      <td>#a97842</td>\n",
       "      <td>574171850</td>\n",
       "    </tr>\n",
       "    <tr>\n",
       "      <th>...</th>\n",
       "      <td>...</td>\n",
       "      <td>...</td>\n",
       "      <td>...</td>\n",
       "      <td>...</td>\n",
       "      <td>...</td>\n",
       "      <td>...</td>\n",
       "      <td>...</td>\n",
       "    </tr>\n",
       "    <tr>\n",
       "      <th>181</th>\n",
       "      <td>61.811057</td>\n",
       "      <td>1981-01-01</td>\n",
       "      <td>2020</td>\n",
       "      <td>2020</td>\n",
       "      <td>amb</td>\n",
       "      <td>#7d3b0c</td>\n",
       "      <td>854208004</td>\n",
       "    </tr>\n",
       "    <tr>\n",
       "      <th>182</th>\n",
       "      <td>66.929170</td>\n",
       "      <td>1924-01-01</td>\n",
       "      <td>2010</td>\n",
       "      <td>2028</td>\n",
       "      <td>amb</td>\n",
       "      <td>#cfa07d</td>\n",
       "      <td>036669613</td>\n",
       "    </tr>\n",
       "    <tr>\n",
       "      <th>183</th>\n",
       "      <td>68.110273</td>\n",
       "      <td>1966-01-01</td>\n",
       "      <td>2010</td>\n",
       "      <td>2028</td>\n",
       "      <td>grn</td>\n",
       "      <td>#ceb3a1</td>\n",
       "      <td>074363489</td>\n",
       "    </tr>\n",
       "    <tr>\n",
       "      <th>184</th>\n",
       "      <td>68.897675</td>\n",
       "      <td>1952-01-01</td>\n",
       "      <td>2016</td>\n",
       "      <td>2024</td>\n",
       "      <td>brn</td>\n",
       "      <td>#fffffd</td>\n",
       "      <td>085432899</td>\n",
       "    </tr>\n",
       "    <tr>\n",
       "      <th>185</th>\n",
       "      <td>75.000000</td>\n",
       "      <td>1969-01-01</td>\n",
       "      <td>2017</td>\n",
       "      <td>2026</td>\n",
       "      <td>brn</td>\n",
       "      <td>#7394c7</td>\n",
       "      <td>745302991</td>\n",
       "    </tr>\n",
       "  </tbody>\n",
       "</table>\n",
       "<p>186 rows × 7 columns</p>\n",
       "</div>"
      ],
      "text/plain": [
       "           hgt        byr   iyr   eyr  ecl      hcl        pid\n",
       "0    63.385861 1977-01-01  2011  2027  grn  #a97842  910468396\n",
       "1    73.228386 1941-01-01  2012  2029  gry  #cfa07d  108935675\n",
       "2    59.448851 1966-01-01  2012  2020  grn  #ceb3a1  947726115\n",
       "3    61.023655 1966-01-01  2012  2027  hzl  #888785  853607760\n",
       "4    75.196891 1923-01-01  2019  2025  gry  #a97842  574171850\n",
       "..         ...        ...   ...   ...  ...      ...        ...\n",
       "181  61.811057 1981-01-01  2020  2020  amb  #7d3b0c  854208004\n",
       "182  66.929170 1924-01-01  2010  2028  amb  #cfa07d  036669613\n",
       "183  68.110273 1966-01-01  2010  2028  grn  #ceb3a1  074363489\n",
       "184  68.897675 1952-01-01  2016  2024  brn  #fffffd  085432899\n",
       "185  75.000000 1969-01-01  2017  2026  brn  #7394c7  745302991\n",
       "\n",
       "[186 rows x 7 columns]"
      ]
     },
     "execution_count": 18,
     "metadata": {},
     "output_type": "execute_result"
    }
   ],
   "source": [
    "df"
   ]
  },
  {
   "cell_type": "code",
   "execution_count": 19,
   "metadata": {},
   "outputs": [
    {
     "data": {
      "image/png": "[encoded data removed]",
      "text/plain": [
       "<Figure size 640x480 with 1 Axes>"
      ]
     },
     "metadata": {},
     "output_type": "display_data"
    },
    {
     "data": {
      "text/plain": [
       "<ggplot: (8778598789235)>"
      ]
     },
     "execution_count": 19,
     "metadata": {},
     "output_type": "execute_result"
    }
   ],
   "source": [
    "ggplot(df, aes(x=\"hgt\")) \\\n",
    "+ geom_histogram(bins=86)"
   ]
  },
  {
   "cell_type": "code",
   "execution_count": 20,
   "metadata": {},
   "outputs": [],
   "source": [
    "df.to_csv(\"data/valid_travelers.csv\")"
   ]
  },
  {
   "cell_type": "code",
   "execution_count": null,
   "metadata": {},
   "outputs": [],
   "source": [
    "from libs.graphics import *\n",
    "\n",
    "ec = {\"amb\":\"#ffbf00\",\n",
    "      \"blu\":\"#85abce\",\n",
    "      \"brn\":\"#654321\",\n",
    "      \"gry\":\"#c2c5cc\",\n",
    "      \"grn\":\"#6ca580\",\n",
    "      \"hzl\":\"#b5ae6e\",\n",
    "      \"oth\":\"#800080\"}\n",
    "\n",
    "def main():\n",
    "    win = GraphWin(\"My First Drawing\", 1200, 1200)\n",
    "\n",
    "    for i, row in df.iterrows():\n",
    "        r = Rectangle(Point(30 + (i % 33) * 35, 100 - row[\"hgt\"] + 110 * (i // 33)), Point(50 + (i % 33) * 35, 100 + 110 * (i // 33)))\n",
    "        r.setFill(\"#000000\")\n",
    "\n",
    "        r.draw(win)\n",
    "        #s = Line(Point(10, 50), Point(70, 60))\n",
    "\n",
    "        c = Circle(Point(40 + (i % 33) * 35, 100 - row[\"hgt\"] - 5 + 110 * (i // 33)), 10)\n",
    "        c.draw(win)\n",
    "        c.setFill(row[\"hcl\"])\n",
    "        c.setOutline(row[\"hcl\"])\n",
    "        c = Circle(Point(40 + (i % 33) * 35, 100 - row[\"hgt\"] + 110 * (i // 33)), 9)\n",
    "        c.draw(win)\n",
    "        c.setOutline(\"#a1665e\")\n",
    "        c.setFill(\"#a1665e\")\n",
    "        c = Circle(Point(35 + (i % 33) * 35, 100 - row[\"hgt\"] + 110 * (i // 33)), 3)\n",
    "        c.draw(win)\n",
    "        c.setOutline(\"#FFFFFF\")\n",
    "        c.setFill(ec[row[\"ecl\"]])\n",
    "        c = Circle(Point(45 + (i % 33) * 35, 100 - row[\"hgt\"] + 110 * (i // 33)), 3)\n",
    "        c.draw(win)\n",
    "        c.setOutline(\"#FFFFFF\")\n",
    "        c.setFill(ec[row[\"ecl\"]])\n",
    "        #s.draw(win)\n",
    "\n",
    "    win.getMouse()\n",
    "    win.close()\n",
    "\n",
    "main()"
   ]
  },
  {
   "cell_type": "code",
   "execution_count": null,
   "metadata": {},
   "outputs": [],
   "source": []
  },
  {
   "cell_type": "code",
   "execution_count": null,
   "metadata": {},
   "outputs": [],
   "source": []
  }
 ],
 "metadata": {
  "kernelspec": {
   "display_name": "Python 3",
   "language": "python",
   "name": "python3"
  },
  "language_info": {
   "codemirror_mode": {
    "name": "ipython",
    "version": 3
   },
   "file_extension": ".py",
   "mimetype": "text/x-python",
   "name": "python",
   "nbconvert_exporter": "python",
   "pygments_lexer": "ipython3",
   "version": "3.8.3"
  }
 },
 "nbformat": 4,
 "nbformat_minor": 4
}
