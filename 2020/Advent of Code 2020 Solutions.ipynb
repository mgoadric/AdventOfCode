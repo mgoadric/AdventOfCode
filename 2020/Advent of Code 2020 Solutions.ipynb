{
 "cells": [
  {
   "cell_type": "code",
   "execution_count": 178,
   "metadata": {},
   "outputs": [],
   "source": [
    "import pandas as pd\n",
    "from plotnine import *\n",
    "import numpy as np\n",
    "import re\n",
    "import copy\n",
    "\n",
    "%matplotlib inline"
   ]
  },
  {
   "cell_type": "markdown",
   "metadata": {},
   "source": [
    "# Day 1\n",
    "## Part 1"
   ]
  },
  {
   "cell_type": "code",
   "execution_count": 16,
   "metadata": {},
   "outputs": [],
   "source": [
    "df = pd.read_csv(\"data/input1.txt\", header=None, names=[\"Expense\"])"
   ]
  },
  {
   "cell_type": "code",
   "execution_count": 17,
   "metadata": {},
   "outputs": [
    {
     "data": {
      "text/html": [
       "<div>\n",
       "<style scoped>\n",
       "    .dataframe tbody tr th:only-of-type {\n",
       "        vertical-align: middle;\n",
       "    }\n",
       "\n",
       "    .dataframe tbody tr th {\n",
       "        vertical-align: top;\n",
       "    }\n",
       "\n",
       "    .dataframe thead th {\n",
       "        text-align: right;\n",
       "    }\n",
       "</style>\n",
       "<table border=\"1\" class=\"dataframe\">\n",
       "  <thead>\n",
       "    <tr style=\"text-align: right;\">\n",
       "      <th></th>\n",
       "      <th>Expense</th>\n",
       "    </tr>\n",
       "  </thead>\n",
       "  <tbody>\n",
       "    <tr>\n",
       "      <th>0</th>\n",
       "      <td>1287</td>\n",
       "    </tr>\n",
       "    <tr>\n",
       "      <th>1</th>\n",
       "      <td>1366</td>\n",
       "    </tr>\n",
       "    <tr>\n",
       "      <th>2</th>\n",
       "      <td>1669</td>\n",
       "    </tr>\n",
       "    <tr>\n",
       "      <th>3</th>\n",
       "      <td>1724</td>\n",
       "    </tr>\n",
       "    <tr>\n",
       "      <th>4</th>\n",
       "      <td>1338</td>\n",
       "    </tr>\n",
       "    <tr>\n",
       "      <th>...</th>\n",
       "      <td>...</td>\n",
       "    </tr>\n",
       "    <tr>\n",
       "      <th>195</th>\n",
       "      <td>1862</td>\n",
       "    </tr>\n",
       "    <tr>\n",
       "      <th>196</th>\n",
       "      <td>1430</td>\n",
       "    </tr>\n",
       "    <tr>\n",
       "      <th>197</th>\n",
       "      <td>1793</td>\n",
       "    </tr>\n",
       "    <tr>\n",
       "      <th>198</th>\n",
       "      <td>1901</td>\n",
       "    </tr>\n",
       "    <tr>\n",
       "      <th>199</th>\n",
       "      <td>1909</td>\n",
       "    </tr>\n",
       "  </tbody>\n",
       "</table>\n",
       "<p>200 rows × 1 columns</p>\n",
       "</div>"
      ],
      "text/plain": [
       "     Expense\n",
       "0       1287\n",
       "1       1366\n",
       "2       1669\n",
       "3       1724\n",
       "4       1338\n",
       "..       ...\n",
       "195     1862\n",
       "196     1430\n",
       "197     1793\n",
       "198     1901\n",
       "199     1909\n",
       "\n",
       "[200 rows x 1 columns]"
      ]
     },
     "execution_count": 17,
     "metadata": {},
     "output_type": "execute_result"
    }
   ],
   "source": [
    "df"
   ]
  },
  {
   "cell_type": "code",
   "execution_count": 18,
   "metadata": {},
   "outputs": [],
   "source": [
    "def sum2020(data):\n",
    "    for i in range(len(data)):\n",
    "        for j in range(i, len(data)):\n",
    "            if data[i] + data[j] == 2020:\n",
    "                print(data[i], data[j])\n",
    "                return data[i] * data[j]"
   ]
  },
  {
   "cell_type": "code",
   "execution_count": 19,
   "metadata": {},
   "outputs": [
    {
     "name": "stdout",
     "output_type": "stream",
     "text": [
      "1721 299\n"
     ]
    },
    {
     "data": {
      "text/plain": [
       "514579"
      ]
     },
     "execution_count": 19,
     "metadata": {},
     "output_type": "execute_result"
    }
   ],
   "source": [
    "sample = [1721, 979, 366, 299, 675, 1456]\n",
    "sum2020(sample)"
   ]
  },
  {
   "cell_type": "code",
   "execution_count": 20,
   "metadata": {},
   "outputs": [
    {
     "name": "stdout",
     "output_type": "stream",
     "text": [
      "437 1583\n"
     ]
    },
    {
     "data": {
      "text/plain": [
       "691771"
      ]
     },
     "execution_count": 20,
     "metadata": {},
     "output_type": "execute_result"
    }
   ],
   "source": [
    "sum2020(df[\"Expense\"].values)"
   ]
  },
  {
   "cell_type": "markdown",
   "metadata": {},
   "source": [
    "## Part 2"
   ]
  },
  {
   "cell_type": "code",
   "execution_count": 21,
   "metadata": {},
   "outputs": [],
   "source": [
    "def sumthree2020(data):\n",
    "    for i in range(len(data)):\n",
    "        for j in range(i, len(data)):\n",
    "            for k in range(j, len(data)):\n",
    "                if data[i] + data[j] + data[k] == 2020:\n",
    "                    print(data[i], data[j], data[k])\n",
    "                    return data[i] * data[j] * data[k]"
   ]
  },
  {
   "cell_type": "code",
   "execution_count": 22,
   "metadata": {},
   "outputs": [
    {
     "name": "stdout",
     "output_type": "stream",
     "text": [
      "979 366 675\n"
     ]
    },
    {
     "data": {
      "text/plain": [
       "241861950"
      ]
     },
     "execution_count": 22,
     "metadata": {},
     "output_type": "execute_result"
    }
   ],
   "source": [
    "sample = [1721, 979, 366, 299, 675, 1456]\n",
    "sumthree2020(sample)"
   ]
  },
  {
   "cell_type": "code",
   "execution_count": 23,
   "metadata": {},
   "outputs": [
    {
     "name": "stdout",
     "output_type": "stream",
     "text": [
      "717 335 968\n"
     ]
    },
    {
     "data": {
      "text/plain": [
       "232508760"
      ]
     },
     "execution_count": 23,
     "metadata": {},
     "output_type": "execute_result"
    }
   ],
   "source": [
    "sumthree2020(df[\"Expense\"].values)"
   ]
  },
  {
   "cell_type": "markdown",
   "metadata": {},
   "source": [
    "# Day 2\n",
    "## Part 1"
   ]
  },
  {
   "cell_type": "code",
   "execution_count": 24,
   "metadata": {},
   "outputs": [],
   "source": [
    "sample = [\"1-3 a: abcde\", \"1-3 b: cdefg\", \"2-9 c: ccccccccc\"]"
   ]
  },
  {
   "cell_type": "code",
   "execution_count": 25,
   "metadata": {},
   "outputs": [],
   "source": [
    "def num_valid(pwords):\n",
    "    count = 0\n",
    "    for p in pwords:\n",
    "        pieces = p.split()\n",
    "        t = pieces[2].count(pieces[1][0])\n",
    "        low, high = [int(x) for x in pieces[0].split(\"-\")]\n",
    "        if low <= t <= high:\n",
    "            count += 1\n",
    "    return count"
   ]
  },
  {
   "cell_type": "code",
   "execution_count": 26,
   "metadata": {},
   "outputs": [
    {
     "data": {
      "text/plain": [
       "2"
      ]
     },
     "execution_count": 26,
     "metadata": {},
     "output_type": "execute_result"
    }
   ],
   "source": [
    "num_valid(sample)"
   ]
  },
  {
   "cell_type": "code",
   "execution_count": 27,
   "metadata": {},
   "outputs": [],
   "source": [
    "fin = open(\"data/input2.txt\")\n",
    "data = fin.readlines()\n",
    "fin.close()"
   ]
  },
  {
   "cell_type": "code",
   "execution_count": 28,
   "metadata": {},
   "outputs": [
    {
     "data": {
      "text/plain": [
       "636"
      ]
     },
     "execution_count": 28,
     "metadata": {},
     "output_type": "execute_result"
    }
   ],
   "source": [
    "num_valid(data)"
   ]
  },
  {
   "cell_type": "markdown",
   "metadata": {},
   "source": [
    "## Part 2"
   ]
  },
  {
   "cell_type": "code",
   "execution_count": 29,
   "metadata": {},
   "outputs": [],
   "source": [
    "def num_valid(pwords):\n",
    "    count = 0\n",
    "    for p in pwords:\n",
    "        pieces = p.split()\n",
    "        first, second = [int(x) - 1 for x in pieces[0].split(\"-\")]\n",
    "        nw = pieces[2][first] + pieces[2][second]\n",
    "        c = pieces[1][0]\n",
    "        if nw.count(c) == 1:\n",
    "            count += 1\n",
    "    return count"
   ]
  },
  {
   "cell_type": "code",
   "execution_count": 30,
   "metadata": {},
   "outputs": [
    {
     "data": {
      "text/plain": [
       "1"
      ]
     },
     "execution_count": 30,
     "metadata": {},
     "output_type": "execute_result"
    }
   ],
   "source": [
    "num_valid(sample)"
   ]
  },
  {
   "cell_type": "code",
   "execution_count": 31,
   "metadata": {},
   "outputs": [
    {
     "data": {
      "text/plain": [
       "588"
      ]
     },
     "execution_count": 31,
     "metadata": {},
     "output_type": "execute_result"
    }
   ],
   "source": [
    "num_valid(data)"
   ]
  },
  {
   "cell_type": "markdown",
   "metadata": {},
   "source": [
    "# Day 3\n",
    "## Puzzle 1"
   ]
  },
  {
   "cell_type": "code",
   "execution_count": 32,
   "metadata": {},
   "outputs": [],
   "source": [
    "sample = [\"..##.......\",\n",
    "\"#...#...#..\",\n",
    "\".#....#..#.\",\n",
    "\"..#.#...#.#\",\n",
    "\".#...##..#.\",\n",
    "\"..#.##.....\",\n",
    "\".#.#.#....#\",\n",
    "\".#........#\",\n",
    "\"#.##...#...\",\n",
    "\"#...##....#\",\n",
    "\".#..#...#.#\",\n",
    "]"
   ]
  },
  {
   "cell_type": "code",
   "execution_count": 33,
   "metadata": {},
   "outputs": [
    {
     "data": {
      "text/plain": [
       "['..##.......',\n",
       " '#...#...#..',\n",
       " '.#....#..#.',\n",
       " '..#.#...#.#',\n",
       " '.#...##..#.',\n",
       " '..#.##.....',\n",
       " '.#.#.#....#',\n",
       " '.#........#',\n",
       " '#.##...#...',\n",
       " '#...##....#',\n",
       " '.#..#...#.#']"
      ]
     },
     "execution_count": 33,
     "metadata": {},
     "output_type": "execute_result"
    }
   ],
   "source": [
    "sample"
   ]
  },
  {
   "cell_type": "code",
   "execution_count": 34,
   "metadata": {},
   "outputs": [],
   "source": [
    "def num_trees(right, down, trees):\n",
    "    count = 0\n",
    "    loc = [0, 0]\n",
    "    while loc[0] < len(trees):\n",
    "        loc[0] += down\n",
    "        loc[1] += right\n",
    "        loc[1] %= len(trees[0])\n",
    "        if loc[0] < len(trees):\n",
    "            #print(loc, trees[loc[0]][loc[1]])\n",
    "            if trees[loc[0]][loc[1]] == \"#\":\n",
    "                count += 1\n",
    "    return count"
   ]
  },
  {
   "cell_type": "code",
   "execution_count": 35,
   "metadata": {},
   "outputs": [
    {
     "data": {
      "text/plain": [
       "7"
      ]
     },
     "execution_count": 35,
     "metadata": {},
     "output_type": "execute_result"
    }
   ],
   "source": [
    "num_trees(3, 1, sample)"
   ]
  },
  {
   "cell_type": "code",
   "execution_count": 36,
   "metadata": {},
   "outputs": [],
   "source": [
    "fin = open(\"data/input3.txt\")\n",
    "treemap = [line.strip() for line in fin.readlines()]\n",
    "fin.close()"
   ]
  },
  {
   "cell_type": "code",
   "execution_count": 37,
   "metadata": {},
   "outputs": [
    {
     "data": {
      "text/plain": [
       "191"
      ]
     },
     "execution_count": 37,
     "metadata": {},
     "output_type": "execute_result"
    }
   ],
   "source": [
    "num_trees(3, 1, treemap)"
   ]
  },
  {
   "cell_type": "markdown",
   "metadata": {},
   "source": [
    "## Part 2"
   ]
  },
  {
   "cell_type": "code",
   "execution_count": 38,
   "metadata": {},
   "outputs": [],
   "source": [
    "slopes = [(1, 1), (3, 1), (5, 1), (7, 1), (1, 2)]"
   ]
  },
  {
   "cell_type": "code",
   "execution_count": 39,
   "metadata": {},
   "outputs": [],
   "source": [
    "def all_paths(slope_list, data):\n",
    "    num = 1\n",
    "    for r, d in slopes:\n",
    "        num *= num_trees(r, d, data)\n",
    "    return num"
   ]
  },
  {
   "cell_type": "code",
   "execution_count": 40,
   "metadata": {},
   "outputs": [
    {
     "data": {
      "text/plain": [
       "336"
      ]
     },
     "execution_count": 40,
     "metadata": {},
     "output_type": "execute_result"
    }
   ],
   "source": [
    "all_paths(slopes, sample)"
   ]
  },
  {
   "cell_type": "code",
   "execution_count": 41,
   "metadata": {},
   "outputs": [
    {
     "data": {
      "text/plain": [
       "1478615040"
      ]
     },
     "execution_count": 41,
     "metadata": {},
     "output_type": "execute_result"
    }
   ],
   "source": [
    "all_paths(slopes, treemap)"
   ]
  },
  {
   "cell_type": "markdown",
   "metadata": {},
   "source": [
    "# Day 4\n",
    "## Part 1"
   ]
  },
  {
   "cell_type": "code",
   "execution_count": 2,
   "metadata": {},
   "outputs": [],
   "source": [
    "expected = set([\"byr\", \"iyr\", \"eyr\", \"hgt\", \"hcl\", \"ecl\", \"pid\", \"cid\"])"
   ]
  },
  {
   "cell_type": "code",
   "execution_count": 3,
   "metadata": {},
   "outputs": [],
   "source": [
    "np_expected = expected.copy()\n",
    "np_expected.remove(\"cid\")"
   ]
  },
  {
   "cell_type": "code",
   "execution_count": 4,
   "metadata": {},
   "outputs": [],
   "source": [
    "def make_pdict(s):\n",
    "    d = {}\n",
    "    for field in s.split():\n",
    "        k, v = field.split(\":\")\n",
    "        d[k] = v\n",
    "    return d"
   ]
  },
  {
   "cell_type": "code",
   "execution_count": 5,
   "metadata": {},
   "outputs": [],
   "source": [
    "def get_data(filename):\n",
    "    passports = []\n",
    "    fin = open(filename)\n",
    "    current = \"\"\n",
    "    for line in fin:\n",
    "        if line.strip() != \"\":\n",
    "            current += \" \" + line.strip()\n",
    "        else:\n",
    "            passports.append(make_pdict(current))\n",
    "            current = \"\"\n",
    "    passports.append(make_pdict(current))\n",
    "    return passports"
   ]
  },
  {
   "cell_type": "code",
   "execution_count": 6,
   "metadata": {},
   "outputs": [],
   "source": [
    "def count_valid(filename):\n",
    "    count = 0\n",
    "    ps = get_data(filename)\n",
    "    for p in ps:\n",
    "        if set(p.keys()).issuperset(np_expected):\n",
    "            count += 1\n",
    "    return count"
   ]
  },
  {
   "cell_type": "code",
   "execution_count": 7,
   "metadata": {},
   "outputs": [
    {
     "data": {
      "text/plain": [
       "2"
      ]
     },
     "execution_count": 7,
     "metadata": {},
     "output_type": "execute_result"
    }
   ],
   "source": [
    "count_valid(\"data/input4sample.txt\")"
   ]
  },
  {
   "cell_type": "code",
   "execution_count": 8,
   "metadata": {},
   "outputs": [
    {
     "data": {
      "text/plain": [
       "242"
      ]
     },
     "execution_count": 8,
     "metadata": {},
     "output_type": "execute_result"
    }
   ],
   "source": [
    "count_valid(\"data/input4.txt\")"
   ]
  },
  {
   "cell_type": "markdown",
   "metadata": {},
   "source": [
    "## Part 2"
   ]
  },
  {
   "cell_type": "code",
   "execution_count": 9,
   "metadata": {},
   "outputs": [],
   "source": [
    "def int_valid(s, low, high):\n",
    "    if not s.isdigit():\n",
    "        return False\n",
    "    y = int(s)\n",
    "    return low <= y <= high"
   ]
  },
  {
   "cell_type": "code",
   "execution_count": 10,
   "metadata": {},
   "outputs": [
    {
     "data": {
      "text/plain": [
       "False"
      ]
     },
     "execution_count": 10,
     "metadata": {},
     "output_type": "execute_result"
    }
   ],
   "source": [
    "int_valid(\"2003\", 1920, 2002)"
   ]
  },
  {
   "cell_type": "code",
   "execution_count": 11,
   "metadata": {},
   "outputs": [],
   "source": [
    "def length_valid(s, low, high, num):\n",
    "    return len(s) == num and int_valid(s, low, high)"
   ]
  },
  {
   "cell_type": "code",
   "execution_count": 12,
   "metadata": {},
   "outputs": [],
   "source": [
    "def count_valid(filename):\n",
    "    data = {}\n",
    "    for field in np_expected:\n",
    "        data[field] = []\n",
    "    \n",
    "    count = 0\n",
    "    ps = get_data(filename)\n",
    "    for p in ps:\n",
    "        if set(p.keys()).issuperset(np_expected):\n",
    "            valid = True\n",
    "            valid &= length_valid(p[\"byr\"], 1920, 2002, 4)\n",
    "            valid &= length_valid(p[\"iyr\"], 2010, 2020, 4)\n",
    "            valid &= length_valid(p[\"eyr\"], 2020, 2030, 4)\n",
    "            #hgt\n",
    "            hgt = p[\"hgt\"]\n",
    "            if hgt[-2:] == \"cm\":\n",
    "                valid &= int_valid(hgt[:-2], 150, 193)\n",
    "            elif hgt[-2:] == \"in\":\n",
    "                valid &= int_valid(hgt[:-2], 59, 76)\n",
    "            else:\n",
    "                valid = False\n",
    "            #hcl https://stackoverflow.com/questions/30241375/python-how-to-check-if-string-is-a-hex-color-code\n",
    "            valid &= bool(re.search(r'^#(?:[0-9a-fA-F]{3}){1,2}$', p[\"hcl\"]))\n",
    "            valid &= p[\"ecl\"] in {\"amb\",\"blu\",\"brn\",\"gry\",\"grn\",\"hzl\",\"oth\"}\n",
    "            valid &= length_valid(p[\"pid\"], 0, 999999999, 9)\n",
    "            if valid:\n",
    "                for field in np_expected:\n",
    "                    if field == \"hgt\":\n",
    "                        hgt = p[\"hgt\"]\n",
    "                        if hgt[-2:] == \"cm\":\n",
    "                            data[field].append(int(hgt[:-2]) * 0.393701)\n",
    "                        else:\n",
    "                            data[field].append(int(hgt[:-2]))\n",
    "                    else:\n",
    "                        data[field].append(p[field])\n",
    "                count += 1\n",
    "    return count, data"
   ]
  },
  {
   "cell_type": "code",
   "execution_count": 13,
   "metadata": {},
   "outputs": [
    {
     "data": {
      "text/plain": [
       "(4,\n",
       " {'hgt': [74, 64.960665, 64.566964, 62.204758000000005],\n",
       "  'byr': ['1980', '1989', '2001', '1944'],\n",
       "  'iyr': ['2012', '2014', '2015', '2010'],\n",
       "  'eyr': ['2030', '2029', '2022', '2021'],\n",
       "  'ecl': ['grn', 'blu', 'hzl', 'blu'],\n",
       "  'hcl': ['#623a2f', '#a97842', '#888785', '#b6652a'],\n",
       "  'pid': ['087499704', '896056539', '545766238', '093154719']})"
      ]
     },
     "execution_count": 13,
     "metadata": {},
     "output_type": "execute_result"
    }
   ],
   "source": [
    "count_valid(\"data/input4-2valid.txt\")"
   ]
  },
  {
   "cell_type": "code",
   "execution_count": 14,
   "metadata": {},
   "outputs": [
    {
     "data": {
      "text/plain": [
       "(0,\n",
       " {'hgt': [], 'byr': [], 'iyr': [], 'eyr': [], 'ecl': [], 'hcl': [], 'pid': []})"
      ]
     },
     "execution_count": 14,
     "metadata": {},
     "output_type": "execute_result"
    }
   ],
   "source": [
    "count_valid(\"data/input4-2invalid.txt\")"
   ]
  },
  {
   "cell_type": "code",
   "execution_count": 15,
   "metadata": {},
   "outputs": [],
   "source": [
    "c, data = count_valid(\"data/input4.txt\")"
   ]
  },
  {
   "cell_type": "code",
   "execution_count": 16,
   "metadata": {},
   "outputs": [
    {
     "data": {
      "text/plain": [
       "186"
      ]
     },
     "execution_count": 16,
     "metadata": {},
     "output_type": "execute_result"
    }
   ],
   "source": [
    "c"
   ]
  },
  {
   "cell_type": "code",
   "execution_count": 17,
   "metadata": {},
   "outputs": [],
   "source": [
    "df = pd.DataFrame(data)\n",
    "df[\"byr\"] = pd.to_datetime(df[\"byr\"])"
   ]
  },
  {
   "cell_type": "code",
   "execution_count": 18,
   "metadata": {},
   "outputs": [
    {
     "data": {
      "text/html": [
       "<div>\n",
       "<style scoped>\n",
       "    .dataframe tbody tr th:only-of-type {\n",
       "        vertical-align: middle;\n",
       "    }\n",
       "\n",
       "    .dataframe tbody tr th {\n",
       "        vertical-align: top;\n",
       "    }\n",
       "\n",
       "    .dataframe thead th {\n",
       "        text-align: right;\n",
       "    }\n",
       "</style>\n",
       "<table border=\"1\" class=\"dataframe\">\n",
       "  <thead>\n",
       "    <tr style=\"text-align: right;\">\n",
       "      <th></th>\n",
       "      <th>hgt</th>\n",
       "      <th>byr</th>\n",
       "      <th>iyr</th>\n",
       "      <th>eyr</th>\n",
       "      <th>ecl</th>\n",
       "      <th>hcl</th>\n",
       "      <th>pid</th>\n",
       "    </tr>\n",
       "  </thead>\n",
       "  <tbody>\n",
       "    <tr>\n",
       "      <th>0</th>\n",
       "      <td>63.385861</td>\n",
       "      <td>1977-01-01</td>\n",
       "      <td>2011</td>\n",
       "      <td>2027</td>\n",
       "      <td>grn</td>\n",
       "      <td>#a97842</td>\n",
       "      <td>910468396</td>\n",
       "    </tr>\n",
       "    <tr>\n",
       "      <th>1</th>\n",
       "      <td>73.228386</td>\n",
       "      <td>1941-01-01</td>\n",
       "      <td>2012</td>\n",
       "      <td>2029</td>\n",
       "      <td>gry</td>\n",
       "      <td>#cfa07d</td>\n",
       "      <td>108935675</td>\n",
       "    </tr>\n",
       "    <tr>\n",
       "      <th>2</th>\n",
       "      <td>59.448851</td>\n",
       "      <td>1966-01-01</td>\n",
       "      <td>2012</td>\n",
       "      <td>2020</td>\n",
       "      <td>grn</td>\n",
       "      <td>#ceb3a1</td>\n",
       "      <td>947726115</td>\n",
       "    </tr>\n",
       "    <tr>\n",
       "      <th>3</th>\n",
       "      <td>61.023655</td>\n",
       "      <td>1966-01-01</td>\n",
       "      <td>2012</td>\n",
       "      <td>2027</td>\n",
       "      <td>hzl</td>\n",
       "      <td>#888785</td>\n",
       "      <td>853607760</td>\n",
       "    </tr>\n",
       "    <tr>\n",
       "      <th>4</th>\n",
       "      <td>75.196891</td>\n",
       "      <td>1923-01-01</td>\n",
       "      <td>2019</td>\n",
       "      <td>2025</td>\n",
       "      <td>gry</td>\n",
       "      <td>#a97842</td>\n",
       "      <td>574171850</td>\n",
       "    </tr>\n",
       "    <tr>\n",
       "      <th>...</th>\n",
       "      <td>...</td>\n",
       "      <td>...</td>\n",
       "      <td>...</td>\n",
       "      <td>...</td>\n",
       "      <td>...</td>\n",
       "      <td>...</td>\n",
       "      <td>...</td>\n",
       "    </tr>\n",
       "    <tr>\n",
       "      <th>181</th>\n",
       "      <td>61.811057</td>\n",
       "      <td>1981-01-01</td>\n",
       "      <td>2020</td>\n",
       "      <td>2020</td>\n",
       "      <td>amb</td>\n",
       "      <td>#7d3b0c</td>\n",
       "      <td>854208004</td>\n",
       "    </tr>\n",
       "    <tr>\n",
       "      <th>182</th>\n",
       "      <td>66.929170</td>\n",
       "      <td>1924-01-01</td>\n",
       "      <td>2010</td>\n",
       "      <td>2028</td>\n",
       "      <td>amb</td>\n",
       "      <td>#cfa07d</td>\n",
       "      <td>036669613</td>\n",
       "    </tr>\n",
       "    <tr>\n",
       "      <th>183</th>\n",
       "      <td>68.110273</td>\n",
       "      <td>1966-01-01</td>\n",
       "      <td>2010</td>\n",
       "      <td>2028</td>\n",
       "      <td>grn</td>\n",
       "      <td>#ceb3a1</td>\n",
       "      <td>074363489</td>\n",
       "    </tr>\n",
       "    <tr>\n",
       "      <th>184</th>\n",
       "      <td>68.897675</td>\n",
       "      <td>1952-01-01</td>\n",
       "      <td>2016</td>\n",
       "      <td>2024</td>\n",
       "      <td>brn</td>\n",
       "      <td>#fffffd</td>\n",
       "      <td>085432899</td>\n",
       "    </tr>\n",
       "    <tr>\n",
       "      <th>185</th>\n",
       "      <td>75.000000</td>\n",
       "      <td>1969-01-01</td>\n",
       "      <td>2017</td>\n",
       "      <td>2026</td>\n",
       "      <td>brn</td>\n",
       "      <td>#7394c7</td>\n",
       "      <td>745302991</td>\n",
       "    </tr>\n",
       "  </tbody>\n",
       "</table>\n",
       "<p>186 rows × 7 columns</p>\n",
       "</div>"
      ],
      "text/plain": [
       "           hgt        byr   iyr   eyr  ecl      hcl        pid\n",
       "0    63.385861 1977-01-01  2011  2027  grn  #a97842  910468396\n",
       "1    73.228386 1941-01-01  2012  2029  gry  #cfa07d  108935675\n",
       "2    59.448851 1966-01-01  2012  2020  grn  #ceb3a1  947726115\n",
       "3    61.023655 1966-01-01  2012  2027  hzl  #888785  853607760\n",
       "4    75.196891 1923-01-01  2019  2025  gry  #a97842  574171850\n",
       "..         ...        ...   ...   ...  ...      ...        ...\n",
       "181  61.811057 1981-01-01  2020  2020  amb  #7d3b0c  854208004\n",
       "182  66.929170 1924-01-01  2010  2028  amb  #cfa07d  036669613\n",
       "183  68.110273 1966-01-01  2010  2028  grn  #ceb3a1  074363489\n",
       "184  68.897675 1952-01-01  2016  2024  brn  #fffffd  085432899\n",
       "185  75.000000 1969-01-01  2017  2026  brn  #7394c7  745302991\n",
       "\n",
       "[186 rows x 7 columns]"
      ]
     },
     "execution_count": 18,
     "metadata": {},
     "output_type": "execute_result"
    }
   ],
   "source": [
    "df"
   ]
  },
  {
   "cell_type": "code",
   "execution_count": 19,
   "metadata": {},
   "outputs": [
    {
     "data": {
      "image/png": "[encoded data removed]",
      "text/plain": [
       "<Figure size 640x480 with 1 Axes>"
      ]
     },
     "metadata": {},
     "output_type": "display_data"
    },
    {
     "data": {
      "text/plain": [
       "<ggplot: (8778598789235)>"
      ]
     },
     "execution_count": 19,
     "metadata": {},
     "output_type": "execute_result"
    }
   ],
   "source": [
    "ggplot(df, aes(x=\"hgt\")) \\\n",
    "+ geom_histogram(bins=86)"
   ]
  },
  {
   "cell_type": "code",
   "execution_count": 20,
   "metadata": {},
   "outputs": [],
   "source": [
    "df.to_csv(\"data/valid_travelers.csv\")"
   ]
  },
  {
   "cell_type": "code",
   "execution_count": 21,
   "metadata": {},
   "outputs": [
    {
     "ename": "KeyboardInterrupt",
     "evalue": "",
     "output_type": "error",
     "traceback": [
      "\u001b[0;31m---------------------------------------------------------------------------\u001b[0m",
      "\u001b[0;31mKeyboardInterrupt\u001b[0m                         Traceback (most recent call last)",
      "\u001b[0;32m<ipython-input-21-2fa7704e16ee>\u001b[0m in \u001b[0;36m<module>\u001b[0;34m\u001b[0m\n\u001b[1;32m     40\u001b[0m     \u001b[0mwin\u001b[0m\u001b[0;34m.\u001b[0m\u001b[0mclose\u001b[0m\u001b[0;34m(\u001b[0m\u001b[0;34m)\u001b[0m\u001b[0;34m\u001b[0m\u001b[0;34m\u001b[0m\u001b[0m\n\u001b[1;32m     41\u001b[0m \u001b[0;34m\u001b[0m\u001b[0m\n\u001b[0;32m---> 42\u001b[0;31m \u001b[0mmain\u001b[0m\u001b[0;34m(\u001b[0m\u001b[0;34m)\u001b[0m\u001b[0;34m\u001b[0m\u001b[0;34m\u001b[0m\u001b[0m\n\u001b[0m",
      "\u001b[0;32m<ipython-input-21-2fa7704e16ee>\u001b[0m in \u001b[0;36mmain\u001b[0;34m()\u001b[0m\n\u001b[1;32m     37\u001b[0m         \u001b[0;31m#s.draw(win)\u001b[0m\u001b[0;34m\u001b[0m\u001b[0;34m\u001b[0m\u001b[0;34m\u001b[0m\u001b[0m\n\u001b[1;32m     38\u001b[0m \u001b[0;34m\u001b[0m\u001b[0m\n\u001b[0;32m---> 39\u001b[0;31m     \u001b[0mwin\u001b[0m\u001b[0;34m.\u001b[0m\u001b[0mgetMouse\u001b[0m\u001b[0;34m(\u001b[0m\u001b[0;34m)\u001b[0m\u001b[0;34m\u001b[0m\u001b[0;34m\u001b[0m\u001b[0m\n\u001b[0m\u001b[1;32m     40\u001b[0m     \u001b[0mwin\u001b[0m\u001b[0;34m.\u001b[0m\u001b[0mclose\u001b[0m\u001b[0;34m(\u001b[0m\u001b[0;34m)\u001b[0m\u001b[0;34m\u001b[0m\u001b[0;34m\u001b[0m\u001b[0m\n\u001b[1;32m     41\u001b[0m \u001b[0;34m\u001b[0m\u001b[0m\n",
      "\u001b[0;32m~/Github/AdventOfCode/2020/libs/graphics.py\u001b[0m in \u001b[0;36mgetMouse\u001b[0;34m(self)\u001b[0m\n\u001b[1;32m    313\u001b[0m         \u001b[0mself\u001b[0m\u001b[0;34m.\u001b[0m\u001b[0mmouseY\u001b[0m \u001b[0;34m=\u001b[0m \u001b[0;32mNone\u001b[0m\u001b[0;34m\u001b[0m\u001b[0;34m\u001b[0m\u001b[0m\n\u001b[1;32m    314\u001b[0m         \u001b[0;32mwhile\u001b[0m \u001b[0mself\u001b[0m\u001b[0;34m.\u001b[0m\u001b[0mmouseX\u001b[0m \u001b[0;34m==\u001b[0m \u001b[0;32mNone\u001b[0m \u001b[0;32mor\u001b[0m \u001b[0mself\u001b[0m\u001b[0;34m.\u001b[0m\u001b[0mmouseY\u001b[0m \u001b[0;34m==\u001b[0m \u001b[0;32mNone\u001b[0m\u001b[0;34m:\u001b[0m\u001b[0;34m\u001b[0m\u001b[0;34m\u001b[0m\u001b[0m\n\u001b[0;32m--> 315\u001b[0;31m             \u001b[0mself\u001b[0m\u001b[0;34m.\u001b[0m\u001b[0mupdate\u001b[0m\u001b[0;34m(\u001b[0m\u001b[0;34m)\u001b[0m\u001b[0;34m\u001b[0m\u001b[0;34m\u001b[0m\u001b[0m\n\u001b[0m\u001b[1;32m    316\u001b[0m             \u001b[0;32mif\u001b[0m \u001b[0mself\u001b[0m\u001b[0;34m.\u001b[0m\u001b[0misClosed\u001b[0m\u001b[0;34m(\u001b[0m\u001b[0;34m)\u001b[0m\u001b[0;34m:\u001b[0m \u001b[0;32mraise\u001b[0m \u001b[0mGraphicsError\u001b[0m\u001b[0;34m(\u001b[0m\u001b[0;34m\"getMouse in closed window\"\u001b[0m\u001b[0;34m)\u001b[0m\u001b[0;34m\u001b[0m\u001b[0;34m\u001b[0m\u001b[0m\n\u001b[1;32m    317\u001b[0m             \u001b[0mtime\u001b[0m\u001b[0;34m.\u001b[0m\u001b[0msleep\u001b[0m\u001b[0;34m(\u001b[0m\u001b[0;36m.1\u001b[0m\u001b[0;34m)\u001b[0m \u001b[0;31m# give up thread\u001b[0m\u001b[0;34m\u001b[0m\u001b[0;34m\u001b[0m\u001b[0m\n",
      "\u001b[0;32m~/opt/anaconda3/lib/python3.8/tkinter/__init__.py\u001b[0m in \u001b[0;36mupdate\u001b[0;34m(self)\u001b[0m\n\u001b[1;32m   1303\u001b[0m     \u001b[0;32mdef\u001b[0m \u001b[0mupdate\u001b[0m\u001b[0;34m(\u001b[0m\u001b[0mself\u001b[0m\u001b[0;34m)\u001b[0m\u001b[0;34m:\u001b[0m\u001b[0;34m\u001b[0m\u001b[0;34m\u001b[0m\u001b[0m\n\u001b[1;32m   1304\u001b[0m         \u001b[0;34m\"\"\"Enter event loop until all pending events have been processed by Tcl.\"\"\"\u001b[0m\u001b[0;34m\u001b[0m\u001b[0;34m\u001b[0m\u001b[0m\n\u001b[0;32m-> 1305\u001b[0;31m         \u001b[0mself\u001b[0m\u001b[0;34m.\u001b[0m\u001b[0mtk\u001b[0m\u001b[0;34m.\u001b[0m\u001b[0mcall\u001b[0m\u001b[0;34m(\u001b[0m\u001b[0;34m'update'\u001b[0m\u001b[0;34m)\u001b[0m\u001b[0;34m\u001b[0m\u001b[0;34m\u001b[0m\u001b[0m\n\u001b[0m\u001b[1;32m   1306\u001b[0m \u001b[0;34m\u001b[0m\u001b[0m\n\u001b[1;32m   1307\u001b[0m     \u001b[0;32mdef\u001b[0m \u001b[0mupdate_idletasks\u001b[0m\u001b[0;34m(\u001b[0m\u001b[0mself\u001b[0m\u001b[0;34m)\u001b[0m\u001b[0;34m:\u001b[0m\u001b[0;34m\u001b[0m\u001b[0;34m\u001b[0m\u001b[0m\n",
      "\u001b[0;31mKeyboardInterrupt\u001b[0m: "
     ]
    }
   ],
   "source": [
    "from libs.graphics import *\n",
    "\n",
    "ec = {\"amb\":\"#ffbf00\",\n",
    "      \"blu\":\"#85abce\",\n",
    "      \"brn\":\"#654321\",\n",
    "      \"gry\":\"#c2c5cc\",\n",
    "      \"grn\":\"#6ca580\",\n",
    "      \"hzl\":\"#b5ae6e\",\n",
    "      \"oth\":\"#800080\"}\n",
    "\n",
    "def main():\n",
    "    win = GraphWin(\"My First Drawing\", 1200, 1200)\n",
    "\n",
    "    for i, row in df.iterrows():\n",
    "        r = Rectangle(Point(30 + (i % 33) * 35, 100 - row[\"hgt\"] + 110 * (i // 33)), Point(50 + (i % 33) * 35, 100 + 110 * (i // 33)))\n",
    "        r.setFill(\"#000000\")\n",
    "\n",
    "        r.draw(win)\n",
    "        #s = Line(Point(10, 50), Point(70, 60))\n",
    "\n",
    "        c = Circle(Point(40 + (i % 33) * 35, 100 - row[\"hgt\"] - 5 + 110 * (i // 33)), 10)\n",
    "        c.draw(win)\n",
    "        c.setFill(row[\"hcl\"])\n",
    "        c.setOutline(row[\"hcl\"])\n",
    "        c = Circle(Point(40 + (i % 33) * 35, 100 - row[\"hgt\"] + 110 * (i // 33)), 9)\n",
    "        c.draw(win)\n",
    "        c.setOutline(\"#a1665e\")\n",
    "        c.setFill(\"#a1665e\")\n",
    "        c = Circle(Point(35 + (i % 33) * 35, 100 - row[\"hgt\"] + 110 * (i // 33)), 3)\n",
    "        c.draw(win)\n",
    "        c.setOutline(\"#FFFFFF\")\n",
    "        c.setFill(ec[row[\"ecl\"]])\n",
    "        c = Circle(Point(45 + (i % 33) * 35, 100 - row[\"hgt\"] + 110 * (i // 33)), 3)\n",
    "        c.draw(win)\n",
    "        c.setOutline(\"#FFFFFF\")\n",
    "        c.setFill(ec[row[\"ecl\"]])\n",
    "        #s.draw(win)\n",
    "\n",
    "    win.getMouse()\n",
    "    win.close()\n",
    "\n",
    "main()"
   ]
  },
  {
   "cell_type": "markdown",
   "metadata": {},
   "source": [
    "# Day 5\n",
    "## Part 1"
   ]
  },
  {
   "cell_type": "code",
   "execution_count": 34,
   "metadata": {},
   "outputs": [],
   "source": [
    "def bsearch(s, space, small):\n",
    "    l, h = 0, space * 2\n",
    "    for d in s:\n",
    "        if d == small:\n",
    "            h -= space\n",
    "        else:\n",
    "            l += space\n",
    "        space //= 2\n",
    "    return l  "
   ]
  },
  {
   "cell_type": "code",
   "execution_count": 35,
   "metadata": {},
   "outputs": [],
   "source": [
    "def seat(bsp):\n",
    "    row = bsearch(bsp[:7], 64, \"F\")\n",
    "    column = bsearch(bsp[7:], 4, \"L\")\n",
    "    sid = row * 8 + column\n",
    "    #print(row, column, sid)\n",
    "    return sid"
   ]
  },
  {
   "cell_type": "code",
   "execution_count": 36,
   "metadata": {},
   "outputs": [
    {
     "data": {
      "text/plain": [
       "357"
      ]
     },
     "execution_count": 36,
     "metadata": {},
     "output_type": "execute_result"
    }
   ],
   "source": [
    "seat(\"FBFBBFFRLR\") # 357  44 * 8 + 5"
   ]
  },
  {
   "cell_type": "code",
   "execution_count": 37,
   "metadata": {},
   "outputs": [
    {
     "data": {
      "text/plain": [
       "567"
      ]
     },
     "execution_count": 37,
     "metadata": {},
     "output_type": "execute_result"
    }
   ],
   "source": [
    "seat(\"BFFFBBFRRR\")# : row 70, column 7, seat ID 567."
   ]
  },
  {
   "cell_type": "code",
   "execution_count": 38,
   "metadata": {},
   "outputs": [
    {
     "data": {
      "text/plain": [
       "119"
      ]
     },
     "execution_count": 38,
     "metadata": {},
     "output_type": "execute_result"
    }
   ],
   "source": [
    "seat(\"FFFBBBFRRR\")# : row 14, column 7, seat ID 119."
   ]
  },
  {
   "cell_type": "code",
   "execution_count": 39,
   "metadata": {},
   "outputs": [
    {
     "data": {
      "text/plain": [
       "820"
      ]
     },
     "execution_count": 39,
     "metadata": {},
     "output_type": "execute_result"
    }
   ],
   "source": [
    "seat(\"BBFFBBFRLL\")# : row 102, column 4, seat ID 820.\")"
   ]
  },
  {
   "cell_type": "code",
   "execution_count": 40,
   "metadata": {},
   "outputs": [],
   "source": [
    "def sanity():\n",
    "    fin = open(\"data/input5.txt\")\n",
    "    data = fin.readlines()\n",
    "    fin.close()\n",
    "    max_id = 0\n",
    "    for line in data:\n",
    "        sid = seat(line.strip())\n",
    "        if sid > max_id:\n",
    "            max_id = sid\n",
    "    return max_id"
   ]
  },
  {
   "cell_type": "code",
   "execution_count": 41,
   "metadata": {},
   "outputs": [
    {
     "data": {
      "text/plain": [
       "835"
      ]
     },
     "execution_count": 41,
     "metadata": {},
     "output_type": "execute_result"
    }
   ],
   "source": [
    "sanity()"
   ]
  },
  {
   "cell_type": "markdown",
   "metadata": {},
   "source": [
    "## Part 2"
   ]
  },
  {
   "cell_type": "code",
   "execution_count": 42,
   "metadata": {},
   "outputs": [],
   "source": [
    "def missing():\n",
    "    fin = open(\"data/input5.txt\")\n",
    "    data = fin.readlines()\n",
    "    fin.close()\n",
    "    open_seats = set(range(836))\n",
    "    for line in data:\n",
    "        sid = seat(line.strip())\n",
    "        open_seats.remove(sid)\n",
    "    return open_seats"
   ]
  },
  {
   "cell_type": "code",
   "execution_count": 43,
   "metadata": {},
   "outputs": [
    {
     "data": {
      "text/plain": [
       "{0, 1, 2, 3, 4, 5, 6, 7, 8, 9, 10, 649}"
      ]
     },
     "execution_count": 43,
     "metadata": {},
     "output_type": "execute_result"
    }
   ],
   "source": [
    "missing()"
   ]
  },
  {
   "cell_type": "markdown",
   "metadata": {},
   "source": [
    "# Day 6\n",
    "## Part 1"
   ]
  },
  {
   "cell_type": "code",
   "execution_count": 55,
   "metadata": {},
   "outputs": [],
   "source": [
    "def common():\n",
    "    fin = open(\"data/input6.txt\")\n",
    "    data = fin.readlines()\n",
    "    fin.close()\n",
    "    common = set()\n",
    "    total = 0\n",
    "    current = \"\"\n",
    "    for line in data:\n",
    "        if line.strip() != \"\":\n",
    "            current += line.strip()\n",
    "        else:\n",
    "            total += len(set(current))\n",
    "            current = \"\"\n",
    "    total += len(set(current))\n",
    "    return total"
   ]
  },
  {
   "cell_type": "code",
   "execution_count": 56,
   "metadata": {},
   "outputs": [
    {
     "data": {
      "text/plain": [
       "{'a', 'b', 'c'}"
      ]
     },
     "execution_count": 56,
     "metadata": {},
     "output_type": "execute_result"
    }
   ],
   "source": [
    "set(\"abc\")"
   ]
  },
  {
   "cell_type": "code",
   "execution_count": 57,
   "metadata": {},
   "outputs": [
    {
     "data": {
      "text/plain": [
       "6763"
      ]
     },
     "execution_count": 57,
     "metadata": {},
     "output_type": "execute_result"
    }
   ],
   "source": [
    "common()"
   ]
  },
  {
   "cell_type": "markdown",
   "metadata": {},
   "source": [
    "## Part 2"
   ]
  },
  {
   "cell_type": "code",
   "execution_count": 88,
   "metadata": {},
   "outputs": [],
   "source": [
    "def common2():\n",
    "    fin = open(\"data/input6.txt\")\n",
    "    data = fin.readlines()\n",
    "    fin.close()\n",
    "    total = 0\n",
    "    current = \"\"\n",
    "    for line in data:\n",
    "        if line.strip() != \"\":\n",
    "            current += line\n",
    "        else:\n",
    "            people = current.split(\"\\n\")\n",
    "            #print(people)\n",
    "            common = set(people[0])\n",
    "            #print(common)\n",
    "            for p in people[1:-1]:\n",
    "                common = common.intersection(set(p))\n",
    "                #print(common)\n",
    "            total += len(common)\n",
    "            #print(total)\n",
    "            current = \"\"\n",
    "    people = current.split(\"\\n\")\n",
    "    common = set(people[0])\n",
    "    #print(common)\n",
    "    for p in people[1:-1]:\n",
    "        common = common.intersection(set(p))\n",
    "        #print(common)\n",
    "    total += len(common)\n",
    "    return total"
   ]
  },
  {
   "cell_type": "code",
   "execution_count": 89,
   "metadata": {},
   "outputs": [],
   "source": [
    "x = common2()"
   ]
  },
  {
   "cell_type": "code",
   "execution_count": 90,
   "metadata": {},
   "outputs": [
    {
     "data": {
      "text/plain": [
       "3512"
      ]
     },
     "execution_count": 90,
     "metadata": {},
     "output_type": "execute_result"
    }
   ],
   "source": [
    "x"
   ]
  },
  {
   "cell_type": "markdown",
   "metadata": {},
   "source": [
    "# Day 7\n",
    "## Part 1"
   ]
  },
  {
   "cell_type": "code",
   "execution_count": 131,
   "metadata": {},
   "outputs": [],
   "source": [
    "def containers(filename):\n",
    "    c = {}\n",
    "    fin = open(filename)\n",
    "    data = fin.readlines()\n",
    "    fin.close()\n",
    "    for line in data:\n",
    "        # https://howtodoinjava.com/python/functions/split-string/\n",
    "        #print(line.strip())\n",
    "        big, little = re.split(r' bags contain ', line.strip()) #  line.strip().split(\" contain \")\n",
    "        for piece in little.split(\",\"):\n",
    "            n = piece.split()\n",
    "            if n[0] != \"no\":\n",
    "                color = n[1] + \" \" + n[2]\n",
    "                if color not in c:\n",
    "                    c[color] = {}\n",
    "                c[color][big] = int(n[0])\n",
    "                #print(color + \"->\" + big + \":\" + str(int(n[0])))\n",
    "    return c"
   ]
  },
  {
   "cell_type": "code",
   "execution_count": 132,
   "metadata": {},
   "outputs": [
    {
     "data": {
      "text/plain": [
       "{'bright white': {'light red': 1, 'dark orange': 3},\n",
       " 'muted yellow': {'light red': 2, 'dark orange': 4},\n",
       " 'shiny gold': {'bright white': 1, 'muted yellow': 2},\n",
       " 'faded blue': {'muted yellow': 9, 'dark olive': 3, 'vibrant plum': 5},\n",
       " 'dark olive': {'shiny gold': 1},\n",
       " 'vibrant plum': {'shiny gold': 2},\n",
       " 'dotted black': {'dark olive': 4, 'vibrant plum': 6}}"
      ]
     },
     "execution_count": 132,
     "metadata": {},
     "output_type": "execute_result"
    }
   ],
   "source": [
    "containers(\"data/input7sample.txt\")"
   ]
  },
  {
   "cell_type": "code",
   "execution_count": 133,
   "metadata": {},
   "outputs": [],
   "source": [
    "def num_contain(color, dag):\n",
    "    bigger = set()\n",
    "    current = [color]\n",
    "    while len(current) > 0:\n",
    "        c = current.pop()\n",
    "        bigger.add(c)\n",
    "        if c in dag:\n",
    "            for oc in dag[c]:\n",
    "                current.append(oc)\n",
    "    #print(bigger)\n",
    "    return len(bigger) - 1"
   ]
  },
  {
   "cell_type": "code",
   "execution_count": 139,
   "metadata": {},
   "outputs": [
    {
     "data": {
      "text/plain": [
       "4"
      ]
     },
     "execution_count": 139,
     "metadata": {},
     "output_type": "execute_result"
    }
   ],
   "source": [
    "num_contain(\"shiny gold\", containers(\"data/input7sample.txt\"))"
   ]
  },
  {
   "cell_type": "code",
   "execution_count": 135,
   "metadata": {},
   "outputs": [
    {
     "data": {
      "text/plain": [
       "268"
      ]
     },
     "execution_count": 135,
     "metadata": {},
     "output_type": "execute_result"
    }
   ],
   "source": [
    "num_contain(\"shiny gold\", containers(\"data/input7.txt\"))"
   ]
  },
  {
   "cell_type": "markdown",
   "metadata": {},
   "source": [
    "## Part 2"
   ]
  },
  {
   "cell_type": "code",
   "execution_count": 140,
   "metadata": {},
   "outputs": [],
   "source": [
    "def containees(filename):\n",
    "    c = {}\n",
    "    fin = open(filename)\n",
    "    data = fin.readlines()\n",
    "    fin.close()\n",
    "    for line in data:\n",
    "        # https://howtodoinjava.com/python/functions/split-string/\n",
    "        #print(line.strip())\n",
    "        big, little = re.split(r' bags contain ', line.strip()) #  line.strip().split(\" contain \")\n",
    "        if big not in c:\n",
    "            c[big] = {}\n",
    "        for piece in little.split(\",\"):\n",
    "            n = piece.split()\n",
    "            if n[0] != \"no\":\n",
    "                color = n[1] + \" \" + n[2]\n",
    "                c[big][color] = int(n[0])\n",
    "                #print(color + \"->\" + big + \":\" + str(int(n[0])))\n",
    "    return c"
   ]
  },
  {
   "cell_type": "code",
   "execution_count": 141,
   "metadata": {},
   "outputs": [
    {
     "data": {
      "text/plain": [
       "{'light red': {'bright white': 1, 'muted yellow': 2},\n",
       " 'dark orange': {'bright white': 3, 'muted yellow': 4},\n",
       " 'bright white': {'shiny gold': 1},\n",
       " 'muted yellow': {'shiny gold': 2, 'faded blue': 9},\n",
       " 'shiny gold': {'dark olive': 1, 'vibrant plum': 2},\n",
       " 'dark olive': {'faded blue': 3, 'dotted black': 4},\n",
       " 'vibrant plum': {'faded blue': 5, 'dotted black': 6},\n",
       " 'faded blue': {},\n",
       " 'dotted black': {}}"
      ]
     },
     "execution_count": 141,
     "metadata": {},
     "output_type": "execute_result"
    }
   ],
   "source": [
    "containees(\"data/input7sample.txt\")"
   ]
  },
  {
   "cell_type": "code",
   "execution_count": 148,
   "metadata": {},
   "outputs": [],
   "source": [
    "def num_contained(color, dag):\n",
    "    total = 1\n",
    "    for c in dag[color]:\n",
    "        total += dag[color][c] * num_contained(c, dag)\n",
    "    return total"
   ]
  },
  {
   "cell_type": "code",
   "execution_count": 150,
   "metadata": {},
   "outputs": [
    {
     "data": {
      "text/plain": [
       "32"
      ]
     },
     "execution_count": 150,
     "metadata": {},
     "output_type": "execute_result"
    }
   ],
   "source": [
    "num_contained(\"shiny gold\", containees(\"data/input7sample.txt\")) - 1"
   ]
  },
  {
   "cell_type": "code",
   "execution_count": 151,
   "metadata": {},
   "outputs": [
    {
     "data": {
      "text/plain": [
       "126"
      ]
     },
     "execution_count": 151,
     "metadata": {},
     "output_type": "execute_result"
    }
   ],
   "source": [
    "num_contained(\"shiny gold\", containees(\"data/input7sample2.txt\")) - 1"
   ]
  },
  {
   "cell_type": "code",
   "execution_count": 152,
   "metadata": {},
   "outputs": [
    {
     "data": {
      "text/plain": [
       "7867"
      ]
     },
     "execution_count": 152,
     "metadata": {},
     "output_type": "execute_result"
    }
   ],
   "source": [
    "num_contained(\"shiny gold\", containees(\"data/input7.txt\")) - 1"
   ]
  },
  {
   "cell_type": "markdown",
   "metadata": {},
   "source": [
    "# Day 8\n",
    "## Part 1"
   ]
  },
  {
   "cell_type": "code",
   "execution_count": 153,
   "metadata": {},
   "outputs": [],
   "source": [
    "def get_data(filename):\n",
    "    fin = open(filename)\n",
    "    data = fin.readlines()\n",
    "    fin.close()\n",
    "    return [x.split() for x in data]"
   ]
  },
  {
   "cell_type": "code",
   "execution_count": 154,
   "metadata": {},
   "outputs": [
    {
     "data": {
      "text/plain": [
       "[['nop', '+0'],\n",
       " ['acc', '+1'],\n",
       " ['jmp', '+4'],\n",
       " ['acc', '+3'],\n",
       " ['jmp', '-3'],\n",
       " ['acc', '-99'],\n",
       " ['acc', '+1'],\n",
       " ['jmp', '-4'],\n",
       " ['acc', '+6']]"
      ]
     },
     "execution_count": 154,
     "metadata": {},
     "output_type": "execute_result"
    }
   ],
   "source": [
    "get_data(\"data/input8sample.txt\")"
   ]
  },
  {
   "cell_type": "code",
   "execution_count": 157,
   "metadata": {},
   "outputs": [],
   "source": [
    "def loopval(data):\n",
    "    address = 0\n",
    "    val = 0\n",
    "    seen = set()\n",
    "    while address not in seen:\n",
    "        seen.add(address)\n",
    "        inst, change = data[address]\n",
    "        change = int(change)\n",
    "        if inst == \"nop\":\n",
    "            address += 1\n",
    "        elif inst == \"acc\":\n",
    "            address += 1\n",
    "            val += change\n",
    "        elif inst == \"jmp\":\n",
    "            address += change\n",
    "    return val"
   ]
  },
  {
   "cell_type": "code",
   "execution_count": 158,
   "metadata": {},
   "outputs": [
    {
     "data": {
      "text/plain": [
       "5"
      ]
     },
     "execution_count": 158,
     "metadata": {},
     "output_type": "execute_result"
    }
   ],
   "source": [
    "loopval(get_data(\"data/input8sample.txt\"))"
   ]
  },
  {
   "cell_type": "code",
   "execution_count": 159,
   "metadata": {},
   "outputs": [
    {
     "data": {
      "text/plain": [
       "1475"
      ]
     },
     "execution_count": 159,
     "metadata": {},
     "output_type": "execute_result"
    }
   ],
   "source": [
    "loopval(get_data(\"data/input8.txt\"))"
   ]
  },
  {
   "cell_type": "markdown",
   "metadata": {},
   "source": [
    "## Part 2"
   ]
  },
  {
   "cell_type": "code",
   "execution_count": 166,
   "metadata": {},
   "outputs": [],
   "source": [
    "def loopval(data):\n",
    "    address = 0\n",
    "    val = 0\n",
    "    seen = set()\n",
    "    while address not in seen and address < len(data):\n",
    "        seen.add(address)\n",
    "        inst, change = data[address]\n",
    "        change = int(change)\n",
    "        if inst == \"nop\":\n",
    "            address += 1\n",
    "        elif inst == \"acc\":\n",
    "            address += 1\n",
    "            val += change\n",
    "        elif inst == \"jmp\":\n",
    "            address += change\n",
    "    return val, address == len(data)"
   ]
  },
  {
   "cell_type": "code",
   "execution_count": 167,
   "metadata": {},
   "outputs": [
    {
     "data": {
      "text/plain": [
       "(5, False)"
      ]
     },
     "execution_count": 167,
     "metadata": {},
     "output_type": "execute_result"
    }
   ],
   "source": [
    "loopval(get_data(\"data/input8sample.txt\"))"
   ]
  },
  {
   "cell_type": "code",
   "execution_count": 182,
   "metadata": {},
   "outputs": [],
   "source": [
    "data = get_data(\"data/input8sample.txt\")"
   ]
  },
  {
   "cell_type": "code",
   "execution_count": 183,
   "metadata": {},
   "outputs": [],
   "source": [
    "c = copy.deepcopy(data)\n",
    "data[-2][0] = \"nop\""
   ]
  },
  {
   "cell_type": "code",
   "execution_count": 184,
   "metadata": {},
   "outputs": [
    {
     "data": {
      "text/plain": [
       "(8, True)"
      ]
     },
     "execution_count": 184,
     "metadata": {},
     "output_type": "execute_result"
    }
   ],
   "source": [
    "loopval(data)"
   ]
  },
  {
   "cell_type": "code",
   "execution_count": 185,
   "metadata": {},
   "outputs": [
    {
     "data": {
      "text/plain": [
       "[['nop', '+0'],\n",
       " ['acc', '+1'],\n",
       " ['jmp', '+4'],\n",
       " ['acc', '+3'],\n",
       " ['jmp', '-3'],\n",
       " ['acc', '-99'],\n",
       " ['acc', '+1'],\n",
       " ['jmp', '-4'],\n",
       " ['acc', '+6']]"
      ]
     },
     "execution_count": 185,
     "metadata": {},
     "output_type": "execute_result"
    }
   ],
   "source": [
    "c"
   ]
  },
  {
   "cell_type": "code",
   "execution_count": 191,
   "metadata": {},
   "outputs": [],
   "source": [
    "def fixloop(data):\n",
    "    for i in range(len(data)):\n",
    "        c = copy.deepcopy(data)\n",
    "        if c[i][0] == \"nop\":\n",
    "            c[i][0] = \"jmp\"\n",
    "        elif c[i][0] == \"jmp\":\n",
    "            c[i][0] = \"nop\"\n",
    "        acc, status = loopval(c)\n",
    "        if status:\n",
    "            return acc"
   ]
  },
  {
   "cell_type": "code",
   "execution_count": 190,
   "metadata": {},
   "outputs": [
    {
     "name": "stdout",
     "output_type": "stream",
     "text": [
      "0 False\n",
      "5 False\n",
      "4 False\n",
      "5 False\n",
      "-94 False\n",
      "5 False\n",
      "5 False\n",
      "8 True\n"
     ]
    },
    {
     "data": {
      "text/plain": [
       "8"
      ]
     },
     "execution_count": 190,
     "metadata": {},
     "output_type": "execute_result"
    }
   ],
   "source": [
    "fixloop(get_data(\"data/input8sample.txt\"))"
   ]
  },
  {
   "cell_type": "code",
   "execution_count": 192,
   "metadata": {},
   "outputs": [
    {
     "data": {
      "text/plain": [
       "1270"
      ]
     },
     "execution_count": 192,
     "metadata": {},
     "output_type": "execute_result"
    }
   ],
   "source": [
    "fixloop(get_data(\"data/input8.txt\"))"
   ]
  },
  {
   "cell_type": "markdown",
   "metadata": {},
   "source": [
    "# Day 9\n",
    "## Part 1"
   ]
  },
  {
   "cell_type": "code",
   "execution_count": 212,
   "metadata": {},
   "outputs": [],
   "source": [
    "def pair_sum(data, target):\n",
    "    #print(data)\n",
    "    for i in range(len(data)):\n",
    "        for j in range(i + 1, len(data)):\n",
    "            if data[i] + data[j] == target:\n",
    "                #print(data[i], data[j])\n",
    "                return True\n",
    "    return False"
   ]
  },
  {
   "cell_type": "code",
   "execution_count": 226,
   "metadata": {},
   "outputs": [],
   "source": [
    "def get_data(filename):\n",
    "    fin = open(filename)\n",
    "    data = fin.readlines()\n",
    "    fin.close()\n",
    "    return [int(x) for x in data]"
   ]
  },
  {
   "cell_type": "code",
   "execution_count": 227,
   "metadata": {},
   "outputs": [],
   "source": [
    "def first_nosum(filename, window):\n",
    "    data = get_data(filename)\n",
    "    for i in range(window, len(data)):\n",
    "        if not pair_sum(data[i - window:i], data[i]):\n",
    "            return data[i]"
   ]
  },
  {
   "cell_type": "code",
   "execution_count": 228,
   "metadata": {},
   "outputs": [
    {
     "data": {
      "text/plain": [
       "127"
      ]
     },
     "execution_count": 228,
     "metadata": {},
     "output_type": "execute_result"
    }
   ],
   "source": [
    "first_nosum(\"data/input9sample.txt\", 5)"
   ]
  },
  {
   "cell_type": "code",
   "execution_count": 229,
   "metadata": {},
   "outputs": [
    {
     "data": {
      "text/plain": [
       "1930745883"
      ]
     },
     "execution_count": 229,
     "metadata": {},
     "output_type": "execute_result"
    }
   ],
   "source": [
    "first_nosum(\"data/input9.txt\", 25)"
   ]
  },
  {
   "cell_type": "markdown",
   "metadata": {},
   "source": [
    "## Part 2"
   ]
  },
  {
   "cell_type": "code",
   "execution_count": 241,
   "metadata": {},
   "outputs": [],
   "source": [
    "def weakness(filename, window):\n",
    "    data = get_data(filename)\n",
    "    missing = first_nosum(filename, window)\n",
    "    start = 0\n",
    "    end = 1\n",
    "    total = data[start] + data[end]\n",
    "    #print(total, missing)\n",
    "    while total != missing:\n",
    "        #print(start, end, total, missing)\n",
    "\n",
    "        if total < missing:\n",
    "            end += 1\n",
    "            total += data[end]\n",
    "        elif total > missing:\n",
    "            total -= data[start]\n",
    "            start += 1\n",
    "    return min(data[start:end + 1]) + max(data[start:end + 1])"
   ]
  },
  {
   "cell_type": "code",
   "execution_count": 242,
   "metadata": {},
   "outputs": [
    {
     "data": {
      "text/plain": [
       "62"
      ]
     },
     "execution_count": 242,
     "metadata": {},
     "output_type": "execute_result"
    }
   ],
   "source": [
    "weakness(\"data/input9sample.txt\", 5)"
   ]
  },
  {
   "cell_type": "code",
   "execution_count": 243,
   "metadata": {},
   "outputs": [
    {
     "data": {
      "text/plain": [
       "268878261"
      ]
     },
     "execution_count": 243,
     "metadata": {},
     "output_type": "execute_result"
    }
   ],
   "source": [
    "weakness(\"data/input9.txt\", 25)"
   ]
  },
  {
   "cell_type": "markdown",
   "metadata": {},
   "source": [
    "# Day 10\n",
    "## Part 1"
   ]
  },
  {
   "cell_type": "code",
   "execution_count": 244,
   "metadata": {},
   "outputs": [],
   "source": [
    "def get_data(filename):\n",
    "    fin = open(filename)\n",
    "    data = fin.readlines()\n",
    "    fin.close()\n",
    "    return [int(x) for x in data]"
   ]
  },
  {
   "cell_type": "code",
   "execution_count": 249,
   "metadata": {},
   "outputs": [],
   "source": [
    "def diffs(data):\n",
    "    one = 0\n",
    "    three = 1\n",
    "    data.append(0)\n",
    "    data.sort()\n",
    "    for i in range(len(data) - 1):\n",
    "        if data[i + 1] - data[i] == 1:\n",
    "            one += 1\n",
    "        elif data[i + 1] - data[i] == 3:\n",
    "            three += 1\n",
    "    return one * three"
   ]
  },
  {
   "cell_type": "code",
   "execution_count": 250,
   "metadata": {},
   "outputs": [
    {
     "data": {
      "text/plain": [
       "35"
      ]
     },
     "execution_count": 250,
     "metadata": {},
     "output_type": "execute_result"
    }
   ],
   "source": [
    "diffs(get_data(\"data/input10sample.txt\"))"
   ]
  },
  {
   "cell_type": "code",
   "execution_count": 251,
   "metadata": {},
   "outputs": [
    {
     "data": {
      "text/plain": [
       "220"
      ]
     },
     "execution_count": 251,
     "metadata": {},
     "output_type": "execute_result"
    }
   ],
   "source": [
    "diffs(get_data(\"data/input10sample2.txt\"))"
   ]
  },
  {
   "cell_type": "code",
   "execution_count": 252,
   "metadata": {},
   "outputs": [
    {
     "data": {
      "text/plain": [
       "2664"
      ]
     },
     "execution_count": 252,
     "metadata": {},
     "output_type": "execute_result"
    }
   ],
   "source": [
    "diffs(get_data(\"data/input10.txt\"))"
   ]
  },
  {
   "cell_type": "markdown",
   "metadata": {},
   "source": [
    "## Part 2\n",
    "\n",
    "Time for dynamic programming!"
   ]
  },
  {
   "cell_type": "code",
   "execution_count": 262,
   "metadata": {},
   "outputs": [],
   "source": [
    "def get_data(filename):\n",
    "    fin = open(filename)\n",
    "    data = fin.readlines()\n",
    "    fin.close()\n",
    "    d = [0] + [int(x) for x in data]\n",
    "    d.sort()\n",
    "    d.append(d[-1] + 3)\n",
    "    return d"
   ]
  },
  {
   "cell_type": "code",
   "execution_count": 263,
   "metadata": {},
   "outputs": [],
   "source": [
    "def diffs(data):\n",
    "    one = 0\n",
    "    three = 0\n",
    "    for i in range(len(data) - 1):\n",
    "        if data[i + 1] - data[i] == 1:\n",
    "            one += 1\n",
    "        elif data[i + 1] - data[i] == 3:\n",
    "            three += 1\n",
    "    return one * three"
   ]
  },
  {
   "cell_type": "code",
   "execution_count": 266,
   "metadata": {},
   "outputs": [
    {
     "data": {
      "text/plain": [
       "2664"
      ]
     },
     "execution_count": 266,
     "metadata": {},
     "output_type": "execute_result"
    }
   ],
   "source": [
    "diffs(get_data(\"data/input10.txt\"))"
   ]
  },
  {
   "cell_type": "code",
   "execution_count": 314,
   "metadata": {},
   "outputs": [],
   "source": [
    "def combos(data):\n",
    "    counts = np.zeros(len(data), dtype=int)\n",
    "    counts[0] = 1\n",
    "    for i in range(1, len(data)):\n",
    "        for j in range(1, 4):\n",
    "            if i - j >= 0 and 1 <= data[i] - data[i - j] <= 3:\n",
    "                counts[i] += counts[i - j]\n",
    "    print(data)\n",
    "    print(counts)\n",
    "    return counts[-1]"
   ]
  },
  {
   "cell_type": "code",
   "execution_count": 315,
   "metadata": {},
   "outputs": [
    {
     "name": "stdout",
     "output_type": "stream",
     "text": [
      "[0, 1, 4, 5, 6, 7, 10, 11, 12, 15, 16, 19, 22]\n",
      "[1 1 1 1 2 4 4 4 8 8 8 8 8]\n"
     ]
    },
    {
     "data": {
      "text/plain": [
       "8"
      ]
     },
     "execution_count": 315,
     "metadata": {},
     "output_type": "execute_result"
    }
   ],
   "source": [
    "combos(get_data(\"data/input10sample.txt\"))"
   ]
  },
  {
   "cell_type": "code",
   "execution_count": 316,
   "metadata": {},
   "outputs": [
    {
     "name": "stdout",
     "output_type": "stream",
     "text": [
      "[0, 1, 2, 3, 4, 7, 8, 9, 10, 11, 14, 17, 18, 19, 20, 23, 24, 25, 28, 31, 32, 33, 34, 35, 38, 39, 42, 45, 46, 47, 48, 49, 52]\n",
      "[    1     1     2     4     7     7     7    14    28    49    49    49\n",
      "    49    98   196   196   196   392   392   392   392   784  1568  2744\n",
      "  2744  2744  2744  2744  2744  5488 10976 19208 19208]\n"
     ]
    },
    {
     "data": {
      "text/plain": [
       "19208"
      ]
     },
     "execution_count": 316,
     "metadata": {},
     "output_type": "execute_result"
    }
   ],
   "source": [
    "combos(get_data(\"data/input10sample2.txt\"))"
   ]
  },
  {
   "cell_type": "code",
   "execution_count": 317,
   "metadata": {},
   "outputs": [
    {
     "name": "stdout",
     "output_type": "stream",
     "text": [
      "[0, 1, 2, 3, 6, 7, 8, 9, 10, 13, 16, 17, 18, 21, 22, 25, 28, 29, 30, 33, 34, 35, 36, 37, 40, 43, 44, 45, 46, 49, 50, 51, 52, 53, 56, 57, 58, 59, 60, 63, 66, 67, 68, 69, 72, 75, 78, 79, 80, 81, 82, 85, 88, 91, 94, 95, 96, 97, 98, 101, 102, 103, 104, 105, 108, 109, 110, 111, 112, 115, 118, 119, 122, 123, 124, 125, 126, 129, 132, 133, 134, 135, 138, 139, 140, 141, 144, 147, 148, 149, 150, 153, 156, 157, 158, 159, 160, 163, 166, 167, 168, 169, 172, 173, 174, 177, 178, 179, 180, 183]\n",
      "[              1               1               2               4\n",
      "               4               4               8              16\n",
      "              28              28              28              28\n",
      "              56              56              56              56\n",
      "              56              56             112             112\n",
      "             112             224             448             784\n",
      "             784             784             784            1568\n",
      "            3136            3136            3136            6272\n",
      "           12544           21952           21952           21952\n",
      "           43904           87808          153664          153664\n",
      "          153664          153664          307328          614656\n",
      "          614656          614656          614656          614656\n",
      "         1229312         2458624         4302592         4302592\n",
      "         4302592         4302592         4302592         4302592\n",
      "         8605184        17210368        30118144        30118144\n",
      "        30118144        60236288       120472576       210827008\n",
      "       210827008       210827008       421654016       843308032\n",
      "      1475789056      1475789056      1475789056      1475789056\n",
      "      1475789056      1475789056      2951578112      5903156224\n",
      "     10330523392     10330523392     10330523392     10330523392\n",
      "     20661046784     41322093568     41322093568     41322093568\n",
      "     82644187136    165288374272    165288374272    165288374272\n",
      "    165288374272    330576748544    661153497088    661153497088\n",
      "    661153497088    661153497088   1322306994176   2644613988352\n",
      "   4628074479616   4628074479616   4628074479616   4628074479616\n",
      "   9256148959232  18512297918464  18512297918464  18512297918464\n",
      "  37024595836928  37024595836928  37024595836928  74049191673856\n",
      " 148098383347712 148098383347712]\n"
     ]
    },
    {
     "data": {
      "text/plain": [
       "148098383347712"
      ]
     },
     "execution_count": 317,
     "metadata": {},
     "output_type": "execute_result"
    }
   ],
   "source": [
    "combos(get_data(\"data/input10.txt\"))"
   ]
  },
  {
   "cell_type": "markdown",
   "metadata": {},
   "source": [
    "# Day 11\n",
    "## Parts 1 and 2\n",
    "\n",
    "Coded with [Mesa](https://mesa.readthedocs.io/en/stable/)"
   ]
  },
  {
   "cell_type": "code",
   "execution_count": 318,
   "metadata": {},
   "outputs": [],
   "source": [
    "from mesa import Agent\n",
    "\n",
    "\n",
    "class Cell(Agent):\n",
    "    \"\"\"Represents a single ALIVE or DEAD cell in the simulation.\"\"\"\n",
    "\n",
    "    DEAD = 0\n",
    "    ALIVE = 1\n",
    "    FLOOR = 2\n",
    "\n",
    "    def __init__(self, pos, model, init_state=DEAD, part=\"Part 1\"):\n",
    "        \"\"\"\n",
    "        Create a cell, in the given state, at the given x, y position.\n",
    "        \"\"\"\n",
    "        super().__init__(pos, model)\n",
    "        self.x, self.y = pos\n",
    "        self.state = init_state\n",
    "        self._nextState = None\n",
    "        self.part = part\n",
    "\n",
    "    @property\n",
    "    def isAlive(self):\n",
    "        return self.state == self.ALIVE\n",
    "    \n",
    "    @property\n",
    "    def isDead(self):\n",
    "        return self.state == self.DEAD\n",
    "\n",
    "    @property\n",
    "    def neighbors(self):\n",
    "        return self.model.grid.neighbor_iter((self.x, self.y), True)\n",
    "\n",
    "    def step(self):\n",
    "        if self.part == \"Part 1\":\n",
    "            self.step1()\n",
    "        else:\n",
    "            self.step2()\n",
    "    \n",
    "    def step1(self):\n",
    "        \"\"\"\n",
    "        Compute if the cell will be dead or alive at the next tick.  This is\n",
    "        based on the number of alive or dead neighbors.  The state is not\n",
    "        changed here, but is just computed and stored in self._nextState,\n",
    "        because our current state may still be necessary for our neighbors\n",
    "        to calculate their next state.\n",
    "        \"\"\"\n",
    "\n",
    "        # Get the neighbors and apply the rules on whether to be alive or dead\n",
    "        # at the next tick.\n",
    "        live_neighbors = sum(neighbor.isAlive for neighbor in self.neighbors)\n",
    "\n",
    "        # Assume nextState is unchanged, unless changed below.\n",
    "        self._nextState = self.state\n",
    "        if self.isAlive:\n",
    "            if live_neighbors >= 4:\n",
    "                self._nextState = self.DEAD\n",
    "        elif self.isDead:\n",
    "            if live_neighbors == 0:\n",
    "                self._nextState = self.ALIVE\n",
    "\n",
    "    def step2(self):\n",
    "        \"\"\"\n",
    "        Compute if the cell will be dead or alive at the next tick.  This is\n",
    "        based on the number of alive or dead neighbors.  The state is not\n",
    "        changed here, but is just computed and stored in self._nextState,\n",
    "        because our current state may still be necessary for our neighbors\n",
    "        to calculate their next state.\n",
    "        \"\"\"\n",
    "\n",
    "        # Get the neighbors and apply the rules on whether to be alive or dead\n",
    "        # at the next tick.\n",
    "        #live_neighbors = sum(neighbor.isAlive for neighbor in self.neighbors)\n",
    "        live_neighbors = 0\n",
    "        for dx, dy in [(-1, -1), (-1, 0), (-1, 1), \n",
    "                        (0, -1),           (0, 1), \n",
    "                        (1, -1),  (1, 0),  (1, 1)]:\n",
    "            finished = False\n",
    "            i = 0\n",
    "            while not finished:\n",
    "                i += 1\n",
    "                looking = (self.x + dx * i, self.y + dy * i)\n",
    "                if self.model.grid.out_of_bounds(looking):\n",
    "                    finished = True\n",
    "                elif self.model.grid[looking[0]][looking[1]].isAlive:\n",
    "                    live_neighbors += 1\n",
    "                    finished = True\n",
    "                elif self.model.grid[looking[0]][looking[1]].isDead:\n",
    "                    finished = True\n",
    "\n",
    "            \n",
    "        # Assume nextState is unchanged, unless changed below.\n",
    "        self._nextState = self.state\n",
    "        if self.isAlive:\n",
    "            if live_neighbors >= 5:\n",
    "                self._nextState = self.DEAD\n",
    "        elif self.isDead:\n",
    "            if live_neighbors == 0:\n",
    "                self._nextState = self.ALIVE\n",
    "\n",
    "    def advance(self):\n",
    "        \"\"\"\n",
    "        Set the state to the new computed state -- computed in step().\n",
    "        \"\"\"\n",
    "        self.state = self._nextState\n"
   ]
  },
  {
   "cell_type": "code",
   "execution_count": 340,
   "metadata": {},
   "outputs": [],
   "source": [
    "from mesa import Model\n",
    "from mesa.time import SimultaneousActivation\n",
    "from mesa.datacollection import DataCollector\n",
    "from mesa.space import Grid\n",
    "\n",
    "class ConwaysGameOfLife(Model):\n",
    "    \"\"\"\n",
    "    Represents the 2-dimensional array of cells in Conway's\n",
    "    Game of Life.\n",
    "    \"\"\"\n",
    "\n",
    "    def __init__(self, data, height=10, width=10, part=\"Part 1\"):\n",
    "        \"\"\"\n",
    "        Create a new playing area of (height, width) cells.\n",
    "        \"\"\"\n",
    "\n",
    "        # Set up the grid and schedule.\n",
    "\n",
    "        # Use SimultaneousActivation which simulates all the cells\n",
    "        # computing their next state simultaneously.  This needs to\n",
    "        # be done because each cell's next state depends on the current\n",
    "        # state of all its neighbors -- before they've changed.\n",
    "        self.schedule = SimultaneousActivation(self)\n",
    "\n",
    "        # Use a simple grid, where edges wrap around.\n",
    "        self.grid = Grid(height, width, torus=False)\n",
    "\n",
    "        self.dc = DataCollector(\n",
    "            {\n",
    "                \"Empty\": lambda m: self.count_type(m, Cell.DEAD),\n",
    "                \"Occupied\": lambda m: self.count_type(m, Cell.ALIVE),\n",
    "            }\n",
    "        )\n",
    "\n",
    "        self.numalive = 0\n",
    "        \n",
    "        # Place a cell at each location, with some initialized to\n",
    "        # ALIVE and some to DEAD.\n",
    "        for (contents, x, y) in self.grid.coord_iter():\n",
    "            if data[(len(data) - 1) - y][x] == \".\":\n",
    "                state = Cell.FLOOR\n",
    "            else:\n",
    "                state = Cell.DEAD\n",
    "            cell = Cell((x, y), self, state, part)\n",
    "           \n",
    "            self.grid.place_agent(cell, (x, y))\n",
    "            self.schedule.add(cell)\n",
    "\n",
    "        self.running = True\n",
    "        self.dc.collect(self)\n",
    "\n",
    "\n",
    "    def step(self):\n",
    "        \"\"\"\n",
    "        Have the scheduler advance each cell by one step\n",
    "        \"\"\"\n",
    "        print(self.numalive)\n",
    "        prev = self.numalive\n",
    "        self.schedule.step()\n",
    "        self.schedule.step()\n",
    "        self.dc.collect(self)\n",
    "\n",
    "        self.numalive = self.count_type(self, Cell.ALIVE)\n",
    "        if self.schedule.time > 84:\n",
    "            self.running = False\n",
    "        \n",
    "    @staticmethod\n",
    "    def count_type(model, condition):\n",
    "        \"\"\"\n",
    "        Helper method to count trees in a given condition in a given model.\n",
    "        \"\"\"\n",
    "        count = 0\n",
    "        for spot in model.schedule.agents:\n",
    "            if spot.state == condition:\n",
    "                count += 1\n",
    "        return count"
   ]
  },
  {
   "cell_type": "code",
   "execution_count": 341,
   "metadata": {},
   "outputs": [],
   "source": [
    "fin = open(\"seating_day_11/seating/data/input11.txt\")\n",
    "data = fin.readlines()\n",
    "fin.close()"
   ]
  },
  {
   "cell_type": "code",
   "execution_count": 342,
   "metadata": {},
   "outputs": [],
   "source": [
    "seating1 = ConwaysGameOfLife(data, len(data[0].strip()), len(data), \"Part 1\")"
   ]
  },
  {
   "cell_type": "code",
   "execution_count": 343,
   "metadata": {},
   "outputs": [
    {
     "name": "stdout",
     "output_type": "stream",
     "text": [
      "0\n",
      "166\n",
      "365\n",
      "524\n",
      "661\n",
      "799\n",
      "934\n",
      "1087\n",
      "1230\n",
      "1371\n",
      "1480\n",
      "1592\n",
      "1694\n",
      "1785\n",
      "1846\n",
      "1898\n",
      "1943\n",
      "1983\n",
      "2025\n",
      "2057\n",
      "2079\n",
      "2103\n",
      "2123\n",
      "2141\n",
      "2158\n",
      "2172\n",
      "2188\n",
      "2198\n",
      "2209\n",
      "2218\n",
      "2227\n",
      "2233\n",
      "2241\n",
      "2245\n",
      "2250\n",
      "2254\n",
      "2254\n",
      "2254\n",
      "2254\n",
      "2254\n",
      "2254\n",
      "2254\n",
      "2254\n"
     ]
    }
   ],
   "source": [
    "seating1.run_model()"
   ]
  },
  {
   "cell_type": "code",
   "execution_count": 353,
   "metadata": {},
   "outputs": [],
   "source": [
    "df1 = seating1.dc.get_model_vars_dataframe()\n",
    "df1[\"Steps\"] = range(0, len(df1) * 2, 2)"
   ]
  },
  {
   "cell_type": "code",
   "execution_count": 354,
   "metadata": {},
   "outputs": [
    {
     "data": {
      "text/html": [
       "<div>\n",
       "<style scoped>\n",
       "    .dataframe tbody tr th:only-of-type {\n",
       "        vertical-align: middle;\n",
       "    }\n",
       "\n",
       "    .dataframe tbody tr th {\n",
       "        vertical-align: top;\n",
       "    }\n",
       "\n",
       "    .dataframe thead th {\n",
       "        text-align: right;\n",
       "    }\n",
       "</style>\n",
       "<table border=\"1\" class=\"dataframe\">\n",
       "  <thead>\n",
       "    <tr style=\"text-align: right;\">\n",
       "      <th></th>\n",
       "      <th>Empty</th>\n",
       "      <th>Occupied</th>\n",
       "      <th>Steps</th>\n",
       "    </tr>\n",
       "  </thead>\n",
       "  <tbody>\n",
       "    <tr>\n",
       "      <th>0</th>\n",
       "      <td>7052</td>\n",
       "      <td>0</td>\n",
       "      <td>0</td>\n",
       "    </tr>\n",
       "    <tr>\n",
       "      <th>1</th>\n",
       "      <td>6886</td>\n",
       "      <td>166</td>\n",
       "      <td>2</td>\n",
       "    </tr>\n",
       "    <tr>\n",
       "      <th>2</th>\n",
       "      <td>6687</td>\n",
       "      <td>365</td>\n",
       "      <td>4</td>\n",
       "    </tr>\n",
       "    <tr>\n",
       "      <th>3</th>\n",
       "      <td>6528</td>\n",
       "      <td>524</td>\n",
       "      <td>6</td>\n",
       "    </tr>\n",
       "    <tr>\n",
       "      <th>4</th>\n",
       "      <td>6391</td>\n",
       "      <td>661</td>\n",
       "      <td>8</td>\n",
       "    </tr>\n",
       "    <tr>\n",
       "      <th>5</th>\n",
       "      <td>6253</td>\n",
       "      <td>799</td>\n",
       "      <td>10</td>\n",
       "    </tr>\n",
       "    <tr>\n",
       "      <th>6</th>\n",
       "      <td>6118</td>\n",
       "      <td>934</td>\n",
       "      <td>12</td>\n",
       "    </tr>\n",
       "    <tr>\n",
       "      <th>7</th>\n",
       "      <td>5965</td>\n",
       "      <td>1087</td>\n",
       "      <td>14</td>\n",
       "    </tr>\n",
       "    <tr>\n",
       "      <th>8</th>\n",
       "      <td>5822</td>\n",
       "      <td>1230</td>\n",
       "      <td>16</td>\n",
       "    </tr>\n",
       "    <tr>\n",
       "      <th>9</th>\n",
       "      <td>5681</td>\n",
       "      <td>1371</td>\n",
       "      <td>18</td>\n",
       "    </tr>\n",
       "    <tr>\n",
       "      <th>10</th>\n",
       "      <td>5572</td>\n",
       "      <td>1480</td>\n",
       "      <td>20</td>\n",
       "    </tr>\n",
       "    <tr>\n",
       "      <th>11</th>\n",
       "      <td>5460</td>\n",
       "      <td>1592</td>\n",
       "      <td>22</td>\n",
       "    </tr>\n",
       "    <tr>\n",
       "      <th>12</th>\n",
       "      <td>5358</td>\n",
       "      <td>1694</td>\n",
       "      <td>24</td>\n",
       "    </tr>\n",
       "    <tr>\n",
       "      <th>13</th>\n",
       "      <td>5267</td>\n",
       "      <td>1785</td>\n",
       "      <td>26</td>\n",
       "    </tr>\n",
       "    <tr>\n",
       "      <th>14</th>\n",
       "      <td>5206</td>\n",
       "      <td>1846</td>\n",
       "      <td>28</td>\n",
       "    </tr>\n",
       "    <tr>\n",
       "      <th>15</th>\n",
       "      <td>5154</td>\n",
       "      <td>1898</td>\n",
       "      <td>30</td>\n",
       "    </tr>\n",
       "    <tr>\n",
       "      <th>16</th>\n",
       "      <td>5109</td>\n",
       "      <td>1943</td>\n",
       "      <td>32</td>\n",
       "    </tr>\n",
       "    <tr>\n",
       "      <th>17</th>\n",
       "      <td>5069</td>\n",
       "      <td>1983</td>\n",
       "      <td>34</td>\n",
       "    </tr>\n",
       "    <tr>\n",
       "      <th>18</th>\n",
       "      <td>5027</td>\n",
       "      <td>2025</td>\n",
       "      <td>36</td>\n",
       "    </tr>\n",
       "    <tr>\n",
       "      <th>19</th>\n",
       "      <td>4995</td>\n",
       "      <td>2057</td>\n",
       "      <td>38</td>\n",
       "    </tr>\n",
       "    <tr>\n",
       "      <th>20</th>\n",
       "      <td>4973</td>\n",
       "      <td>2079</td>\n",
       "      <td>40</td>\n",
       "    </tr>\n",
       "    <tr>\n",
       "      <th>21</th>\n",
       "      <td>4949</td>\n",
       "      <td>2103</td>\n",
       "      <td>42</td>\n",
       "    </tr>\n",
       "    <tr>\n",
       "      <th>22</th>\n",
       "      <td>4929</td>\n",
       "      <td>2123</td>\n",
       "      <td>44</td>\n",
       "    </tr>\n",
       "    <tr>\n",
       "      <th>23</th>\n",
       "      <td>4911</td>\n",
       "      <td>2141</td>\n",
       "      <td>46</td>\n",
       "    </tr>\n",
       "    <tr>\n",
       "      <th>24</th>\n",
       "      <td>4894</td>\n",
       "      <td>2158</td>\n",
       "      <td>48</td>\n",
       "    </tr>\n",
       "    <tr>\n",
       "      <th>25</th>\n",
       "      <td>4880</td>\n",
       "      <td>2172</td>\n",
       "      <td>50</td>\n",
       "    </tr>\n",
       "    <tr>\n",
       "      <th>26</th>\n",
       "      <td>4864</td>\n",
       "      <td>2188</td>\n",
       "      <td>52</td>\n",
       "    </tr>\n",
       "    <tr>\n",
       "      <th>27</th>\n",
       "      <td>4854</td>\n",
       "      <td>2198</td>\n",
       "      <td>54</td>\n",
       "    </tr>\n",
       "    <tr>\n",
       "      <th>28</th>\n",
       "      <td>4843</td>\n",
       "      <td>2209</td>\n",
       "      <td>56</td>\n",
       "    </tr>\n",
       "    <tr>\n",
       "      <th>29</th>\n",
       "      <td>4834</td>\n",
       "      <td>2218</td>\n",
       "      <td>58</td>\n",
       "    </tr>\n",
       "    <tr>\n",
       "      <th>30</th>\n",
       "      <td>4825</td>\n",
       "      <td>2227</td>\n",
       "      <td>60</td>\n",
       "    </tr>\n",
       "    <tr>\n",
       "      <th>31</th>\n",
       "      <td>4819</td>\n",
       "      <td>2233</td>\n",
       "      <td>62</td>\n",
       "    </tr>\n",
       "    <tr>\n",
       "      <th>32</th>\n",
       "      <td>4811</td>\n",
       "      <td>2241</td>\n",
       "      <td>64</td>\n",
       "    </tr>\n",
       "    <tr>\n",
       "      <th>33</th>\n",
       "      <td>4807</td>\n",
       "      <td>2245</td>\n",
       "      <td>66</td>\n",
       "    </tr>\n",
       "    <tr>\n",
       "      <th>34</th>\n",
       "      <td>4802</td>\n",
       "      <td>2250</td>\n",
       "      <td>68</td>\n",
       "    </tr>\n",
       "    <tr>\n",
       "      <th>35</th>\n",
       "      <td>4798</td>\n",
       "      <td>2254</td>\n",
       "      <td>70</td>\n",
       "    </tr>\n",
       "    <tr>\n",
       "      <th>36</th>\n",
       "      <td>4798</td>\n",
       "      <td>2254</td>\n",
       "      <td>72</td>\n",
       "    </tr>\n",
       "    <tr>\n",
       "      <th>37</th>\n",
       "      <td>4798</td>\n",
       "      <td>2254</td>\n",
       "      <td>74</td>\n",
       "    </tr>\n",
       "    <tr>\n",
       "      <th>38</th>\n",
       "      <td>4798</td>\n",
       "      <td>2254</td>\n",
       "      <td>76</td>\n",
       "    </tr>\n",
       "    <tr>\n",
       "      <th>39</th>\n",
       "      <td>4798</td>\n",
       "      <td>2254</td>\n",
       "      <td>78</td>\n",
       "    </tr>\n",
       "    <tr>\n",
       "      <th>40</th>\n",
       "      <td>4798</td>\n",
       "      <td>2254</td>\n",
       "      <td>80</td>\n",
       "    </tr>\n",
       "    <tr>\n",
       "      <th>41</th>\n",
       "      <td>4798</td>\n",
       "      <td>2254</td>\n",
       "      <td>82</td>\n",
       "    </tr>\n",
       "    <tr>\n",
       "      <th>42</th>\n",
       "      <td>4798</td>\n",
       "      <td>2254</td>\n",
       "      <td>84</td>\n",
       "    </tr>\n",
       "    <tr>\n",
       "      <th>43</th>\n",
       "      <td>4798</td>\n",
       "      <td>2254</td>\n",
       "      <td>86</td>\n",
       "    </tr>\n",
       "  </tbody>\n",
       "</table>\n",
       "</div>"
      ],
      "text/plain": [
       "    Empty  Occupied  Steps\n",
       "0    7052         0      0\n",
       "1    6886       166      2\n",
       "2    6687       365      4\n",
       "3    6528       524      6\n",
       "4    6391       661      8\n",
       "5    6253       799     10\n",
       "6    6118       934     12\n",
       "7    5965      1087     14\n",
       "8    5822      1230     16\n",
       "9    5681      1371     18\n",
       "10   5572      1480     20\n",
       "11   5460      1592     22\n",
       "12   5358      1694     24\n",
       "13   5267      1785     26\n",
       "14   5206      1846     28\n",
       "15   5154      1898     30\n",
       "16   5109      1943     32\n",
       "17   5069      1983     34\n",
       "18   5027      2025     36\n",
       "19   4995      2057     38\n",
       "20   4973      2079     40\n",
       "21   4949      2103     42\n",
       "22   4929      2123     44\n",
       "23   4911      2141     46\n",
       "24   4894      2158     48\n",
       "25   4880      2172     50\n",
       "26   4864      2188     52\n",
       "27   4854      2198     54\n",
       "28   4843      2209     56\n",
       "29   4834      2218     58\n",
       "30   4825      2227     60\n",
       "31   4819      2233     62\n",
       "32   4811      2241     64\n",
       "33   4807      2245     66\n",
       "34   4802      2250     68\n",
       "35   4798      2254     70\n",
       "36   4798      2254     72\n",
       "37   4798      2254     74\n",
       "38   4798      2254     76\n",
       "39   4798      2254     78\n",
       "40   4798      2254     80\n",
       "41   4798      2254     82\n",
       "42   4798      2254     84\n",
       "43   4798      2254     86"
      ]
     },
     "execution_count": 354,
     "metadata": {},
     "output_type": "execute_result"
    }
   ],
   "source": [
    "df1"
   ]
  },
  {
   "cell_type": "code",
   "execution_count": 355,
   "metadata": {},
   "outputs": [
    {
     "data": {
      "image/png": "[encoded data removed]",
      "text/plain": [
       "<Figure size 640x480 with 1 Axes>"
      ]
     },
     "metadata": {},
     "output_type": "display_data"
    },
    {
     "data": {
      "text/plain": [
       "<ggplot: (8772859680196)>"
      ]
     },
     "execution_count": 355,
     "metadata": {},
     "output_type": "execute_result"
    }
   ],
   "source": [
    "ggplot(df1, aes(x=\"Steps\", y=\"Occupied\")) \\\n",
    "+ geom_line()"
   ]
  },
  {
   "cell_type": "code",
   "execution_count": 356,
   "metadata": {},
   "outputs": [],
   "source": [
    "seating2 = ConwaysGameOfLife(data, len(data[0].strip()), len(data), \"Part 2\")"
   ]
  },
  {
   "cell_type": "code",
   "execution_count": 357,
   "metadata": {},
   "outputs": [
    {
     "name": "stdout",
     "output_type": "stream",
     "text": [
      "0\n",
      "4\n",
      "12\n",
      "24\n",
      "41\n",
      "61\n",
      "82\n",
      "108\n",
      "141\n",
      "177\n",
      "214\n",
      "259\n",
      "308\n",
      "363\n",
      "426\n",
      "490\n",
      "559\n",
      "644\n",
      "725\n",
      "804\n",
      "890\n",
      "976\n",
      "1069\n",
      "1162\n",
      "1245\n",
      "1319\n",
      "1387\n",
      "1467\n",
      "1535\n",
      "1592\n",
      "1652\n",
      "1706\n",
      "1751\n",
      "1800\n",
      "1842\n",
      "1876\n",
      "1911\n",
      "1938\n",
      "1963\n",
      "1978\n",
      "1990\n",
      "2000\n",
      "2004\n"
     ]
    }
   ],
   "source": [
    "seating2.run_model()"
   ]
  },
  {
   "cell_type": "code",
   "execution_count": 358,
   "metadata": {},
   "outputs": [],
   "source": [
    "df2 = seating2.dc.get_model_vars_dataframe()"
   ]
  },
  {
   "cell_type": "code",
   "execution_count": 371,
   "metadata": {},
   "outputs": [],
   "source": [
    "df1[\"Part Two\"] = df2[\"Occupied\"]\n",
    "df1[\"Part One\"] = df1[\"Occupied\"]"
   ]
  },
  {
   "cell_type": "code",
   "execution_count": 372,
   "metadata": {},
   "outputs": [
    {
     "data": {
      "text/html": [
       "<div>\n",
       "<style scoped>\n",
       "    .dataframe tbody tr th:only-of-type {\n",
       "        vertical-align: middle;\n",
       "    }\n",
       "\n",
       "    .dataframe tbody tr th {\n",
       "        vertical-align: top;\n",
       "    }\n",
       "\n",
       "    .dataframe thead th {\n",
       "        text-align: right;\n",
       "    }\n",
       "</style>\n",
       "<table border=\"1\" class=\"dataframe\">\n",
       "  <thead>\n",
       "    <tr style=\"text-align: right;\">\n",
       "      <th></th>\n",
       "      <th>Empty</th>\n",
       "      <th>Occupied</th>\n",
       "      <th>Steps</th>\n",
       "      <th>Part 1</th>\n",
       "      <th>Part 2</th>\n",
       "      <th>Part Two</th>\n",
       "      <th>Part One</th>\n",
       "    </tr>\n",
       "  </thead>\n",
       "  <tbody>\n",
       "    <tr>\n",
       "      <th>0</th>\n",
       "      <td>7052</td>\n",
       "      <td>0</td>\n",
       "      <td>0</td>\n",
       "      <td>0</td>\n",
       "      <td>0</td>\n",
       "      <td>0</td>\n",
       "      <td>0</td>\n",
       "    </tr>\n",
       "    <tr>\n",
       "      <th>1</th>\n",
       "      <td>6886</td>\n",
       "      <td>166</td>\n",
       "      <td>2</td>\n",
       "      <td>166</td>\n",
       "      <td>4</td>\n",
       "      <td>4</td>\n",
       "      <td>166</td>\n",
       "    </tr>\n",
       "    <tr>\n",
       "      <th>2</th>\n",
       "      <td>6687</td>\n",
       "      <td>365</td>\n",
       "      <td>4</td>\n",
       "      <td>365</td>\n",
       "      <td>12</td>\n",
       "      <td>12</td>\n",
       "      <td>365</td>\n",
       "    </tr>\n",
       "    <tr>\n",
       "      <th>3</th>\n",
       "      <td>6528</td>\n",
       "      <td>524</td>\n",
       "      <td>6</td>\n",
       "      <td>524</td>\n",
       "      <td>24</td>\n",
       "      <td>24</td>\n",
       "      <td>524</td>\n",
       "    </tr>\n",
       "    <tr>\n",
       "      <th>4</th>\n",
       "      <td>6391</td>\n",
       "      <td>661</td>\n",
       "      <td>8</td>\n",
       "      <td>661</td>\n",
       "      <td>41</td>\n",
       "      <td>41</td>\n",
       "      <td>661</td>\n",
       "    </tr>\n",
       "    <tr>\n",
       "      <th>5</th>\n",
       "      <td>6253</td>\n",
       "      <td>799</td>\n",
       "      <td>10</td>\n",
       "      <td>799</td>\n",
       "      <td>61</td>\n",
       "      <td>61</td>\n",
       "      <td>799</td>\n",
       "    </tr>\n",
       "    <tr>\n",
       "      <th>6</th>\n",
       "      <td>6118</td>\n",
       "      <td>934</td>\n",
       "      <td>12</td>\n",
       "      <td>934</td>\n",
       "      <td>82</td>\n",
       "      <td>82</td>\n",
       "      <td>934</td>\n",
       "    </tr>\n",
       "    <tr>\n",
       "      <th>7</th>\n",
       "      <td>5965</td>\n",
       "      <td>1087</td>\n",
       "      <td>14</td>\n",
       "      <td>1087</td>\n",
       "      <td>108</td>\n",
       "      <td>108</td>\n",
       "      <td>1087</td>\n",
       "    </tr>\n",
       "    <tr>\n",
       "      <th>8</th>\n",
       "      <td>5822</td>\n",
       "      <td>1230</td>\n",
       "      <td>16</td>\n",
       "      <td>1230</td>\n",
       "      <td>141</td>\n",
       "      <td>141</td>\n",
       "      <td>1230</td>\n",
       "    </tr>\n",
       "    <tr>\n",
       "      <th>9</th>\n",
       "      <td>5681</td>\n",
       "      <td>1371</td>\n",
       "      <td>18</td>\n",
       "      <td>1371</td>\n",
       "      <td>177</td>\n",
       "      <td>177</td>\n",
       "      <td>1371</td>\n",
       "    </tr>\n",
       "    <tr>\n",
       "      <th>10</th>\n",
       "      <td>5572</td>\n",
       "      <td>1480</td>\n",
       "      <td>20</td>\n",
       "      <td>1480</td>\n",
       "      <td>214</td>\n",
       "      <td>214</td>\n",
       "      <td>1480</td>\n",
       "    </tr>\n",
       "    <tr>\n",
       "      <th>11</th>\n",
       "      <td>5460</td>\n",
       "      <td>1592</td>\n",
       "      <td>22</td>\n",
       "      <td>1592</td>\n",
       "      <td>259</td>\n",
       "      <td>259</td>\n",
       "      <td>1592</td>\n",
       "    </tr>\n",
       "    <tr>\n",
       "      <th>12</th>\n",
       "      <td>5358</td>\n",
       "      <td>1694</td>\n",
       "      <td>24</td>\n",
       "      <td>1694</td>\n",
       "      <td>308</td>\n",
       "      <td>308</td>\n",
       "      <td>1694</td>\n",
       "    </tr>\n",
       "    <tr>\n",
       "      <th>13</th>\n",
       "      <td>5267</td>\n",
       "      <td>1785</td>\n",
       "      <td>26</td>\n",
       "      <td>1785</td>\n",
       "      <td>363</td>\n",
       "      <td>363</td>\n",
       "      <td>1785</td>\n",
       "    </tr>\n",
       "    <tr>\n",
       "      <th>14</th>\n",
       "      <td>5206</td>\n",
       "      <td>1846</td>\n",
       "      <td>28</td>\n",
       "      <td>1846</td>\n",
       "      <td>426</td>\n",
       "      <td>426</td>\n",
       "      <td>1846</td>\n",
       "    </tr>\n",
       "    <tr>\n",
       "      <th>15</th>\n",
       "      <td>5154</td>\n",
       "      <td>1898</td>\n",
       "      <td>30</td>\n",
       "      <td>1898</td>\n",
       "      <td>490</td>\n",
       "      <td>490</td>\n",
       "      <td>1898</td>\n",
       "    </tr>\n",
       "    <tr>\n",
       "      <th>16</th>\n",
       "      <td>5109</td>\n",
       "      <td>1943</td>\n",
       "      <td>32</td>\n",
       "      <td>1943</td>\n",
       "      <td>559</td>\n",
       "      <td>559</td>\n",
       "      <td>1943</td>\n",
       "    </tr>\n",
       "    <tr>\n",
       "      <th>17</th>\n",
       "      <td>5069</td>\n",
       "      <td>1983</td>\n",
       "      <td>34</td>\n",
       "      <td>1983</td>\n",
       "      <td>644</td>\n",
       "      <td>644</td>\n",
       "      <td>1983</td>\n",
       "    </tr>\n",
       "    <tr>\n",
       "      <th>18</th>\n",
       "      <td>5027</td>\n",
       "      <td>2025</td>\n",
       "      <td>36</td>\n",
       "      <td>2025</td>\n",
       "      <td>725</td>\n",
       "      <td>725</td>\n",
       "      <td>2025</td>\n",
       "    </tr>\n",
       "    <tr>\n",
       "      <th>19</th>\n",
       "      <td>4995</td>\n",
       "      <td>2057</td>\n",
       "      <td>38</td>\n",
       "      <td>2057</td>\n",
       "      <td>804</td>\n",
       "      <td>804</td>\n",
       "      <td>2057</td>\n",
       "    </tr>\n",
       "    <tr>\n",
       "      <th>20</th>\n",
       "      <td>4973</td>\n",
       "      <td>2079</td>\n",
       "      <td>40</td>\n",
       "      <td>2079</td>\n",
       "      <td>890</td>\n",
       "      <td>890</td>\n",
       "      <td>2079</td>\n",
       "    </tr>\n",
       "    <tr>\n",
       "      <th>21</th>\n",
       "      <td>4949</td>\n",
       "      <td>2103</td>\n",
       "      <td>42</td>\n",
       "      <td>2103</td>\n",
       "      <td>976</td>\n",
       "      <td>976</td>\n",
       "      <td>2103</td>\n",
       "    </tr>\n",
       "    <tr>\n",
       "      <th>22</th>\n",
       "      <td>4929</td>\n",
       "      <td>2123</td>\n",
       "      <td>44</td>\n",
       "      <td>2123</td>\n",
       "      <td>1069</td>\n",
       "      <td>1069</td>\n",
       "      <td>2123</td>\n",
       "    </tr>\n",
       "    <tr>\n",
       "      <th>23</th>\n",
       "      <td>4911</td>\n",
       "      <td>2141</td>\n",
       "      <td>46</td>\n",
       "      <td>2141</td>\n",
       "      <td>1162</td>\n",
       "      <td>1162</td>\n",
       "      <td>2141</td>\n",
       "    </tr>\n",
       "    <tr>\n",
       "      <th>24</th>\n",
       "      <td>4894</td>\n",
       "      <td>2158</td>\n",
       "      <td>48</td>\n",
       "      <td>2158</td>\n",
       "      <td>1245</td>\n",
       "      <td>1245</td>\n",
       "      <td>2158</td>\n",
       "    </tr>\n",
       "    <tr>\n",
       "      <th>25</th>\n",
       "      <td>4880</td>\n",
       "      <td>2172</td>\n",
       "      <td>50</td>\n",
       "      <td>2172</td>\n",
       "      <td>1319</td>\n",
       "      <td>1319</td>\n",
       "      <td>2172</td>\n",
       "    </tr>\n",
       "    <tr>\n",
       "      <th>26</th>\n",
       "      <td>4864</td>\n",
       "      <td>2188</td>\n",
       "      <td>52</td>\n",
       "      <td>2188</td>\n",
       "      <td>1387</td>\n",
       "      <td>1387</td>\n",
       "      <td>2188</td>\n",
       "    </tr>\n",
       "    <tr>\n",
       "      <th>27</th>\n",
       "      <td>4854</td>\n",
       "      <td>2198</td>\n",
       "      <td>54</td>\n",
       "      <td>2198</td>\n",
       "      <td>1467</td>\n",
       "      <td>1467</td>\n",
       "      <td>2198</td>\n",
       "    </tr>\n",
       "    <tr>\n",
       "      <th>28</th>\n",
       "      <td>4843</td>\n",
       "      <td>2209</td>\n",
       "      <td>56</td>\n",
       "      <td>2209</td>\n",
       "      <td>1535</td>\n",
       "      <td>1535</td>\n",
       "      <td>2209</td>\n",
       "    </tr>\n",
       "    <tr>\n",
       "      <th>29</th>\n",
       "      <td>4834</td>\n",
       "      <td>2218</td>\n",
       "      <td>58</td>\n",
       "      <td>2218</td>\n",
       "      <td>1592</td>\n",
       "      <td>1592</td>\n",
       "      <td>2218</td>\n",
       "    </tr>\n",
       "    <tr>\n",
       "      <th>30</th>\n",
       "      <td>4825</td>\n",
       "      <td>2227</td>\n",
       "      <td>60</td>\n",
       "      <td>2227</td>\n",
       "      <td>1652</td>\n",
       "      <td>1652</td>\n",
       "      <td>2227</td>\n",
       "    </tr>\n",
       "    <tr>\n",
       "      <th>31</th>\n",
       "      <td>4819</td>\n",
       "      <td>2233</td>\n",
       "      <td>62</td>\n",
       "      <td>2233</td>\n",
       "      <td>1706</td>\n",
       "      <td>1706</td>\n",
       "      <td>2233</td>\n",
       "    </tr>\n",
       "    <tr>\n",
       "      <th>32</th>\n",
       "      <td>4811</td>\n",
       "      <td>2241</td>\n",
       "      <td>64</td>\n",
       "      <td>2241</td>\n",
       "      <td>1751</td>\n",
       "      <td>1751</td>\n",
       "      <td>2241</td>\n",
       "    </tr>\n",
       "    <tr>\n",
       "      <th>33</th>\n",
       "      <td>4807</td>\n",
       "      <td>2245</td>\n",
       "      <td>66</td>\n",
       "      <td>2245</td>\n",
       "      <td>1800</td>\n",
       "      <td>1800</td>\n",
       "      <td>2245</td>\n",
       "    </tr>\n",
       "    <tr>\n",
       "      <th>34</th>\n",
       "      <td>4802</td>\n",
       "      <td>2250</td>\n",
       "      <td>68</td>\n",
       "      <td>2250</td>\n",
       "      <td>1842</td>\n",
       "      <td>1842</td>\n",
       "      <td>2250</td>\n",
       "    </tr>\n",
       "    <tr>\n",
       "      <th>35</th>\n",
       "      <td>4798</td>\n",
       "      <td>2254</td>\n",
       "      <td>70</td>\n",
       "      <td>2254</td>\n",
       "      <td>1876</td>\n",
       "      <td>1876</td>\n",
       "      <td>2254</td>\n",
       "    </tr>\n",
       "    <tr>\n",
       "      <th>36</th>\n",
       "      <td>4798</td>\n",
       "      <td>2254</td>\n",
       "      <td>72</td>\n",
       "      <td>2254</td>\n",
       "      <td>1911</td>\n",
       "      <td>1911</td>\n",
       "      <td>2254</td>\n",
       "    </tr>\n",
       "    <tr>\n",
       "      <th>37</th>\n",
       "      <td>4798</td>\n",
       "      <td>2254</td>\n",
       "      <td>74</td>\n",
       "      <td>2254</td>\n",
       "      <td>1938</td>\n",
       "      <td>1938</td>\n",
       "      <td>2254</td>\n",
       "    </tr>\n",
       "    <tr>\n",
       "      <th>38</th>\n",
       "      <td>4798</td>\n",
       "      <td>2254</td>\n",
       "      <td>76</td>\n",
       "      <td>2254</td>\n",
       "      <td>1963</td>\n",
       "      <td>1963</td>\n",
       "      <td>2254</td>\n",
       "    </tr>\n",
       "    <tr>\n",
       "      <th>39</th>\n",
       "      <td>4798</td>\n",
       "      <td>2254</td>\n",
       "      <td>78</td>\n",
       "      <td>2254</td>\n",
       "      <td>1978</td>\n",
       "      <td>1978</td>\n",
       "      <td>2254</td>\n",
       "    </tr>\n",
       "    <tr>\n",
       "      <th>40</th>\n",
       "      <td>4798</td>\n",
       "      <td>2254</td>\n",
       "      <td>80</td>\n",
       "      <td>2254</td>\n",
       "      <td>1990</td>\n",
       "      <td>1990</td>\n",
       "      <td>2254</td>\n",
       "    </tr>\n",
       "    <tr>\n",
       "      <th>41</th>\n",
       "      <td>4798</td>\n",
       "      <td>2254</td>\n",
       "      <td>82</td>\n",
       "      <td>2254</td>\n",
       "      <td>2000</td>\n",
       "      <td>2000</td>\n",
       "      <td>2254</td>\n",
       "    </tr>\n",
       "    <tr>\n",
       "      <th>42</th>\n",
       "      <td>4798</td>\n",
       "      <td>2254</td>\n",
       "      <td>84</td>\n",
       "      <td>2254</td>\n",
       "      <td>2004</td>\n",
       "      <td>2004</td>\n",
       "      <td>2254</td>\n",
       "    </tr>\n",
       "    <tr>\n",
       "      <th>43</th>\n",
       "      <td>4798</td>\n",
       "      <td>2254</td>\n",
       "      <td>86</td>\n",
       "      <td>2254</td>\n",
       "      <td>2004</td>\n",
       "      <td>2004</td>\n",
       "      <td>2254</td>\n",
       "    </tr>\n",
       "  </tbody>\n",
       "</table>\n",
       "</div>"
      ],
      "text/plain": [
       "    Empty  Occupied  Steps  Part 1  Part 2  Part Two  Part One\n",
       "0    7052         0      0       0       0         0         0\n",
       "1    6886       166      2     166       4         4       166\n",
       "2    6687       365      4     365      12        12       365\n",
       "3    6528       524      6     524      24        24       524\n",
       "4    6391       661      8     661      41        41       661\n",
       "5    6253       799     10     799      61        61       799\n",
       "6    6118       934     12     934      82        82       934\n",
       "7    5965      1087     14    1087     108       108      1087\n",
       "8    5822      1230     16    1230     141       141      1230\n",
       "9    5681      1371     18    1371     177       177      1371\n",
       "10   5572      1480     20    1480     214       214      1480\n",
       "11   5460      1592     22    1592     259       259      1592\n",
       "12   5358      1694     24    1694     308       308      1694\n",
       "13   5267      1785     26    1785     363       363      1785\n",
       "14   5206      1846     28    1846     426       426      1846\n",
       "15   5154      1898     30    1898     490       490      1898\n",
       "16   5109      1943     32    1943     559       559      1943\n",
       "17   5069      1983     34    1983     644       644      1983\n",
       "18   5027      2025     36    2025     725       725      2025\n",
       "19   4995      2057     38    2057     804       804      2057\n",
       "20   4973      2079     40    2079     890       890      2079\n",
       "21   4949      2103     42    2103     976       976      2103\n",
       "22   4929      2123     44    2123    1069      1069      2123\n",
       "23   4911      2141     46    2141    1162      1162      2141\n",
       "24   4894      2158     48    2158    1245      1245      2158\n",
       "25   4880      2172     50    2172    1319      1319      2172\n",
       "26   4864      2188     52    2188    1387      1387      2188\n",
       "27   4854      2198     54    2198    1467      1467      2198\n",
       "28   4843      2209     56    2209    1535      1535      2209\n",
       "29   4834      2218     58    2218    1592      1592      2218\n",
       "30   4825      2227     60    2227    1652      1652      2227\n",
       "31   4819      2233     62    2233    1706      1706      2233\n",
       "32   4811      2241     64    2241    1751      1751      2241\n",
       "33   4807      2245     66    2245    1800      1800      2245\n",
       "34   4802      2250     68    2250    1842      1842      2250\n",
       "35   4798      2254     70    2254    1876      1876      2254\n",
       "36   4798      2254     72    2254    1911      1911      2254\n",
       "37   4798      2254     74    2254    1938      1938      2254\n",
       "38   4798      2254     76    2254    1963      1963      2254\n",
       "39   4798      2254     78    2254    1978      1978      2254\n",
       "40   4798      2254     80    2254    1990      1990      2254\n",
       "41   4798      2254     82    2254    2000      2000      2254\n",
       "42   4798      2254     84    2254    2004      2004      2254\n",
       "43   4798      2254     86    2254    2004      2004      2254"
      ]
     },
     "execution_count": 372,
     "metadata": {},
     "output_type": "execute_result"
    }
   ],
   "source": [
    "df1"
   ]
  },
  {
   "cell_type": "code",
   "execution_count": 374,
   "metadata": {},
   "outputs": [
    {
     "name": "stderr",
     "output_type": "stream",
     "text": [
      "/Users/goadrich/opt/anaconda3/lib/python3.8/site-packages/IPython/core/interactiveshell.py:3343: FutureWarning: This dataframe has a column name that matches the 'value_name' column name of the resultiing Dataframe. In the future this will raise an error, please set the 'value_name' parameter of DataFrame.melt to a unique name.\n"
     ]
    },
    {
     "data": {
      "image/png": "[encoded data removed]",
      "text/plain": [
       "<Figure size 640x480 with 1 Axes>"
      ]
     },
     "metadata": {},
     "output_type": "display_data"
    },
    {
     "data": {
      "text/plain": [
       "<ggplot: (8772858553929)>"
      ]
     },
     "execution_count": 374,
     "metadata": {},
     "output_type": "execute_result"
    }
   ],
   "source": [
    "resultsmelt = pd.melt(df1, id_vars=[\"Steps\"], value_vars=[\"Part One\", \"Part Two\"], var_name='Puzzle', value_name='Occupied')\n",
    "ggplot(resultsmelt, aes(x=\"Steps\", y=\"Occupied\", color=\"Puzzle\")) \\\n",
    "+ geom_line() \\\n",
    "+ labs(title=\"Occupied Ferry Seats, in even Timesteps\")\n"
   ]
  },
  {
   "cell_type": "code",
   "execution_count": null,
   "metadata": {},
   "outputs": [],
   "source": []
  },
  {
   "cell_type": "code",
   "execution_count": null,
   "metadata": {},
   "outputs": [],
   "source": []
  },
  {
   "cell_type": "code",
   "execution_count": null,
   "metadata": {},
   "outputs": [],
   "source": []
  }
 ],
 "metadata": {
  "kernelspec": {
   "display_name": "Python 3",
   "language": "python",
   "name": "python3"
  },
  "language_info": {
   "codemirror_mode": {
    "name": "ipython",
    "version": 3
   },
   "file_extension": ".py",
   "mimetype": "text/x-python",
   "name": "python",
   "nbconvert_exporter": "python",
   "pygments_lexer": "ipython3",
   "version": "3.8.3"
  }
 },
 "nbformat": 4,
 "nbformat_minor": 4
}
